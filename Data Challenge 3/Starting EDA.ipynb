{
 "cells": [
  {
   "cell_type": "code",
   "execution_count": 1,
   "metadata": {},
   "outputs": [],
   "source": [
    "import numpy as np\n",
    "import pandas as pd\n",
    "import matplotlib.pyplot as plt\n",
    "\n",
    "\n",
    "from IPython.display import set_matplotlib_formats\n",
    "set_matplotlib_formats('png', 'pdf')\n",
    "\n",
    "%matplotlib inline\n",
    "\n",
    "test_results = pd.read_csv('test_results.csv')\n",
    "user_table = pd.read_csv('user_table.csv')"
   ]
  },
  {
   "cell_type": "code",
   "execution_count": 3,
   "metadata": {},
   "outputs": [
    {
     "data": {
      "text/html": [
       "<div>\n",
       "<style scoped>\n",
       "    .dataframe tbody tr th:only-of-type {\n",
       "        vertical-align: middle;\n",
       "    }\n",
       "\n",
       "    .dataframe tbody tr th {\n",
       "        vertical-align: top;\n",
       "    }\n",
       "\n",
       "    .dataframe thead th {\n",
       "        text-align: right;\n",
       "    }\n",
       "</style>\n",
       "<table border=\"1\" class=\"dataframe\">\n",
       "  <thead>\n",
       "    <tr style=\"text-align: right;\">\n",
       "      <th></th>\n",
       "      <th>user_id</th>\n",
       "      <th>timestamp</th>\n",
       "      <th>source</th>\n",
       "      <th>device</th>\n",
       "      <th>operative_system</th>\n",
       "      <th>test</th>\n",
       "      <th>price</th>\n",
       "      <th>converted</th>\n",
       "    </tr>\n",
       "  </thead>\n",
       "  <tbody>\n",
       "    <tr>\n",
       "      <th>0</th>\n",
       "      <td>604839</td>\n",
       "      <td>2015-05-08 03:38:34</td>\n",
       "      <td>ads_facebook</td>\n",
       "      <td>mobile</td>\n",
       "      <td>iOS</td>\n",
       "      <td>0</td>\n",
       "      <td>39</td>\n",
       "      <td>0</td>\n",
       "    </tr>\n",
       "    <tr>\n",
       "      <th>1</th>\n",
       "      <td>624057</td>\n",
       "      <td>2015-05-10 21:08:46</td>\n",
       "      <td>seo-google</td>\n",
       "      <td>mobile</td>\n",
       "      <td>android</td>\n",
       "      <td>0</td>\n",
       "      <td>39</td>\n",
       "      <td>0</td>\n",
       "    </tr>\n",
       "    <tr>\n",
       "      <th>2</th>\n",
       "      <td>317970</td>\n",
       "      <td>2015-04-04 15:01:23</td>\n",
       "      <td>ads-bing</td>\n",
       "      <td>mobile</td>\n",
       "      <td>android</td>\n",
       "      <td>0</td>\n",
       "      <td>39</td>\n",
       "      <td>0</td>\n",
       "    </tr>\n",
       "    <tr>\n",
       "      <th>3</th>\n",
       "      <td>685636</td>\n",
       "      <td>2015-05-07 07:26:01</td>\n",
       "      <td>direct_traffic</td>\n",
       "      <td>mobile</td>\n",
       "      <td>iOS</td>\n",
       "      <td>1</td>\n",
       "      <td>59</td>\n",
       "      <td>0</td>\n",
       "    </tr>\n",
       "    <tr>\n",
       "      <th>4</th>\n",
       "      <td>820854</td>\n",
       "      <td>2015-05-24 11:04:40</td>\n",
       "      <td>ads_facebook</td>\n",
       "      <td>web</td>\n",
       "      <td>mac</td>\n",
       "      <td>0</td>\n",
       "      <td>39</td>\n",
       "      <td>0</td>\n",
       "    </tr>\n",
       "  </tbody>\n",
       "</table>\n",
       "</div>"
      ],
      "text/plain": [
       "   user_id            timestamp          source  device operative_system  \\\n",
       "0   604839  2015-05-08 03:38:34    ads_facebook  mobile              iOS   \n",
       "1   624057  2015-05-10 21:08:46      seo-google  mobile          android   \n",
       "2   317970  2015-04-04 15:01:23        ads-bing  mobile          android   \n",
       "3   685636  2015-05-07 07:26:01  direct_traffic  mobile              iOS   \n",
       "4   820854  2015-05-24 11:04:40    ads_facebook     web              mac   \n",
       "\n",
       "   test  price  converted  \n",
       "0     0     39          0  \n",
       "1     0     39          0  \n",
       "2     0     39          0  \n",
       "3     1     59          0  \n",
       "4     0     39          0  "
      ]
     },
     "execution_count": 3,
     "metadata": {},
     "output_type": "execute_result"
    }
   ],
   "source": [
    "test_results.head()"
   ]
  },
  {
   "cell_type": "code",
   "execution_count": 4,
   "metadata": {},
   "outputs": [
    {
     "data": {
      "text/html": [
       "<div>\n",
       "<style scoped>\n",
       "    .dataframe tbody tr th:only-of-type {\n",
       "        vertical-align: middle;\n",
       "    }\n",
       "\n",
       "    .dataframe tbody tr th {\n",
       "        vertical-align: top;\n",
       "    }\n",
       "\n",
       "    .dataframe thead th {\n",
       "        text-align: right;\n",
       "    }\n",
       "</style>\n",
       "<table border=\"1\" class=\"dataframe\">\n",
       "  <thead>\n",
       "    <tr style=\"text-align: right;\">\n",
       "      <th></th>\n",
       "      <th>user_id</th>\n",
       "      <th>city</th>\n",
       "      <th>country</th>\n",
       "      <th>lat</th>\n",
       "      <th>long</th>\n",
       "    </tr>\n",
       "  </thead>\n",
       "  <tbody>\n",
       "    <tr>\n",
       "      <th>0</th>\n",
       "      <td>510335</td>\n",
       "      <td>Peabody</td>\n",
       "      <td>USA</td>\n",
       "      <td>42.53</td>\n",
       "      <td>-70.97</td>\n",
       "    </tr>\n",
       "    <tr>\n",
       "      <th>1</th>\n",
       "      <td>89568</td>\n",
       "      <td>Reno</td>\n",
       "      <td>USA</td>\n",
       "      <td>39.54</td>\n",
       "      <td>-119.82</td>\n",
       "    </tr>\n",
       "    <tr>\n",
       "      <th>2</th>\n",
       "      <td>434134</td>\n",
       "      <td>Rialto</td>\n",
       "      <td>USA</td>\n",
       "      <td>34.11</td>\n",
       "      <td>-117.39</td>\n",
       "    </tr>\n",
       "    <tr>\n",
       "      <th>3</th>\n",
       "      <td>289769</td>\n",
       "      <td>Carson City</td>\n",
       "      <td>USA</td>\n",
       "      <td>39.15</td>\n",
       "      <td>-119.74</td>\n",
       "    </tr>\n",
       "    <tr>\n",
       "      <th>4</th>\n",
       "      <td>939586</td>\n",
       "      <td>Chicago</td>\n",
       "      <td>USA</td>\n",
       "      <td>41.84</td>\n",
       "      <td>-87.68</td>\n",
       "    </tr>\n",
       "  </tbody>\n",
       "</table>\n",
       "</div>"
      ],
      "text/plain": [
       "   user_id         city country    lat    long\n",
       "0   510335      Peabody     USA  42.53  -70.97\n",
       "1    89568         Reno     USA  39.54 -119.82\n",
       "2   434134       Rialto     USA  34.11 -117.39\n",
       "3   289769  Carson City     USA  39.15 -119.74\n",
       "4   939586      Chicago     USA  41.84  -87.68"
      ]
     },
     "execution_count": 4,
     "metadata": {},
     "output_type": "execute_result"
    }
   ],
   "source": [
    "user_table.head()"
   ]
  },
  {
   "cell_type": "code",
   "execution_count": 5,
   "metadata": {},
   "outputs": [
    {
     "data": {
      "text/plain": [
       "0    310992\n",
       "1      5808\n",
       "Name: converted, dtype: int64"
      ]
     },
     "execution_count": 5,
     "metadata": {},
     "output_type": "execute_result"
    }
   ],
   "source": [
    "test_results['converted'].value_counts()\n",
    "# conversions are very very rare"
   ]
  },
  {
   "cell_type": "code",
   "execution_count": 6,
   "metadata": {},
   "outputs": [
    {
     "data": {
      "text/plain": [
       "39    202672\n",
       "59    114128\n",
       "Name: price, dtype: int64"
      ]
     },
     "execution_count": 6,
     "metadata": {},
     "output_type": "execute_result"
    }
   ],
   "source": [
    "test_results['price'].value_counts()"
   ]
  },
  {
   "cell_type": "code",
   "execution_count": 17,
   "metadata": {},
   "outputs": [
    {
     "name": "stdout",
     "output_type": "stream",
     "text": [
      "Separate into control and alternative treatment tables: \n",
      "Control: (202672, 8)\n",
      "Alternative Higher Price: (114128, 8)\n",
      " \n",
      "What about conversions only? \n",
      "Control: (4031, 8)\n",
      "Alternative Higher Price: (1777, 8)\n"
     ]
    }
   ],
   "source": [
    "# Let's check the fraction of observed conversions at each price point\n",
    "\n",
    "control_cohort = test_results[test_results.price == 39]\n",
    "alternative_cohort = test_results[test_results.price == 59]\n",
    "\n",
    "print('Separate into control and alternative treatment tables: ')\n",
    "print('Control: ' + str(control_price.shape))\n",
    "print('Alternative Higher Price: ' + str(alternative_price.shape))\n",
    "\n",
    "control_conversions = control_cohort[control_cohort.converted == 1]\n",
    "alternative_conversions = alternative_cohort[alternative_cohort.converted == 1]\n",
    "\n",
    "print(' ')\n",
    "print('What about conversions only? ')\n",
    "print('Control: ' + str(control_conversions.shape))\n",
    "print('Alternative Higher Price: ' + str(alternative_conversions.shape))"
   ]
  },
  {
   "cell_type": "code",
   "execution_count": 19,
   "metadata": {},
   "outputs": [
    {
     "name": "stdout",
     "output_type": "stream",
     "text": [
      "Control conversion rate: 0.01988927922949396\n",
      "Alternative conversion rate: 0.015570236926959203\n"
     ]
    }
   ],
   "source": [
    "control_conversion_rate = len(control_conversions)/len(control_cohort)\n",
    "print('Control conversion rate: ' + str(control_conversion_rate))\n",
    "\n",
    "alternative_conversion_rate = len(alternative_conversions)/len(alternative_cohort)\n",
    "print('Alternative conversion rate: ' + str(alternative_conversion_rate))"
   ]
  },
  {
   "cell_type": "code",
   "execution_count": 35,
   "metadata": {},
   "outputs": [
    {
     "name": "stdout",
     "output_type": "stream",
     "text": [
      "Estimated control revenue expected from 100,000 ad placements: 77568 dollars\n",
      "Estimated alternative revenue expected from 100,000 ad placements: 91864 dollars\n",
      " \n",
      "So, we estimate that revenue will be 18% higher if we sell at the higher price (while maintaining the mix of current advertising ad placements).\n",
      " \n",
      "Further, any on-going support costs will be less at the higher price since fewer liscenes are sold.\n"
     ]
    }
   ],
   "source": [
    "# Should we sell at $39 or $59?\n",
    "# Suppose that we do set a single fixed price and show this to 100,000 people\n",
    "# Assuming that the control and treatment group were randomly specified,\n",
    "# we estimate the following revenue for the two options:\n",
    "\n",
    "revenue_control_price = 39*control_conversion_rate*100000\n",
    "print('Estimated control revenue expected from 100,000 ad placements: ' \n",
    "      + str(round(revenue_control_price)) + ' dollars')\n",
    "\n",
    "revenue_alternative_price = 59*alternative_conversion_rate*100000\n",
    "print('Estimated alternative revenue expected from 100,000 ad placements: ' \n",
    "      + str(round(revenue_alternative_price)) + ' dollars')\n",
    "\n",
    "print(' ')\n",
    "print('So, we estimate that revenue will be ' + str(round((revenue_alternative_price/revenue_control_price-1)*100)) \n",
    "      + '% higher if we sell at the higher price (while maintaining the mix of current advertising ad placements).')\n",
    "\n",
    "print(' ')\n",
    "print('Further, any on-going support costs will be less at the higher price since fewer liscenes are sold.')"
   ]
  },
  {
   "cell_type": "markdown",
   "metadata": {},
   "source": [
    "**Discussion:** Based on this first-blush analysis, it seems promising to sell the software at the higher price...however, we have not yet considered the variance in conversions for the two treatments (we have used only point estimates for the conversion rate in each group).\n",
    "\n",
    "So, let's now consider variance. We will continue to focus on the revenue from 100,000 advertisement placements, but we will now use resampling to describe the variance around these estimated revenue figures."
   ]
  },
  {
   "cell_type": "code",
   "execution_count": 85,
   "metadata": {},
   "outputs": [],
   "source": [
    "# We will repeatedly resample populations of 20,000 from each group\n",
    "# to build an estimate of the distribution of profits at both price levels\n",
    "\n",
    "resampled_control_revenues = []\n",
    "\n",
    "for index in range(1000):\n",
    "    resampled_control_cohort = control_cohort.sample(50000)\n",
    "    resampled_control_conversions = resampled_control_cohort[resampled_control_cohort.converted == 1]\n",
    "    resampled_control_conversion_rate = len(resampled_control_conversions)/len(resampled_control_cohort)\n",
    "    resampled_revenue_control_price = 39*resampled_control_conversion_rate*100000\n",
    "    resampled_control_revenues.append(resampled_revenue_control_price)\n"
   ]
  },
  {
   "cell_type": "code",
   "execution_count": 86,
   "metadata": {},
   "outputs": [
    {
     "name": "stdout",
     "output_type": "stream",
     "text": [
      "77485.2\n",
      "Lower-bound of confidence interval: 73554\n",
      "Upper-bound of confidence interval: 81668\n"
     ]
    },
    {
     "data": {
      "image/png": "[encoded data removed]",
      "text/plain": [
       "<Figure size 576x432 with 1 Axes>"
      ]
     },
     "metadata": {
      "needs_background": "light"
     },
     "output_type": "display_data"
    }
   ],
   "source": [
    "plt.rcParams[\"figure.figsize\"] = (8,6)\n",
    "plt.hist(resampled_control_revenues)\n",
    "plt.title('Estimated Revenue per 100,000 Ads placed at $39 Price')\n",
    "plt.ylabel('Frequency (out of 1,000)')\n",
    "plt.xlabel('Dollars of Revenue per 100,000 Ads Placed')\n",
    "\n",
    "resampled_control_revenues = pd.Series(resampled_control_revenues)\n",
    "\n",
    "plt.axvline(x = resampled_control_revenues.mean(),color ='black')\n",
    "\n",
    "print(resampled_control_revenues.mean())\n",
    "print('Lower-bound of confidence interval: ' + str(round(resampled_control_revenues.quantile(0.025))))\n",
    "print('Upper-bound of confidence interval: ' + str(round(resampled_control_revenues.quantile(0.975))))"
   ]
  },
  {
   "cell_type": "code",
   "execution_count": 87,
   "metadata": {},
   "outputs": [],
   "source": [
    "# We will repeatedly resample populations of 20,000 from each group\n",
    "# to build an estimate of the distribution of profits at both price levels\n",
    "\n",
    "resampled_alternative_revenues = []\n",
    "\n",
    "for index in range(1000):\n",
    "    resampled_alternative_cohort = alternative_cohort.sample(50000)\n",
    "    resampled_alternative_conversions = resampled_alternative_cohort[resampled_alternative_cohort.converted == 1]\n",
    "    resampled_alternative_conversion_rate = len(resampled_alternative_conversions)/len(resampled_alternative_cohort)\n",
    "    resampled_revenue_alternative_price = 59*resampled_alternative_conversion_rate*100000\n",
    "    resampled_alternative_revenues.append(resampled_revenue_alternative_price)"
   ]
  },
  {
   "cell_type": "code",
   "execution_count": 88,
   "metadata": {},
   "outputs": [
    {
     "name": "stdout",
     "output_type": "stream",
     "text": [
      "91920.82\n",
      "Lower-bound of confidence interval: 86963\n",
      "Upper-bound of confidence interval: 96642\n"
     ]
    },
    {
     "data": {
      "image/png": "[encoded data removed]",
      "text/plain": [
       "<Figure size 576x432 with 1 Axes>"
      ]
     },
     "metadata": {
      "needs_background": "light"
     },
     "output_type": "display_data"
    }
   ],
   "source": [
    "plt.rcParams[\"figure.figsize\"] = (8,6)\n",
    "plt.hist(resampled_alternative_revenues)\n",
    "plt.title('Estimated Revenue per 100,000 Ads placed at $59 Price')\n",
    "plt.ylabel('Frequency (out of 1,000)')\n",
    "plt.xlabel('Dollars of Revenue per 100,000 Ads Placed')\n",
    "\n",
    "resampled_alternative_revenues = pd.Series(resampled_alternative_revenues)\n",
    "\n",
    "plt.axvline(x = resampled_alternative_revenues.mean(),color ='black')\n",
    "\n",
    "print(resampled_alternative_revenues.mean())\n",
    "print('Lower-bound of confidence interval: ' + str(round(resampled_alternative_revenues.quantile(0.025))))\n",
    "print('Upper-bound of confidence interval: ' + str(round(resampled_alternative_revenues.quantile(0.975))))"
   ]
  },
  {
   "cell_type": "code",
   "execution_count": 117,
   "metadata": {},
   "outputs": [
    {
     "data": {
      "text/plain": [
       "Text(0.5, 1.0, 'Changing to $59 Price Will Improve Revenues (Estimated Revenue Increase of 18%)')"
      ]
     },
     "execution_count": 117,
     "metadata": {},
     "output_type": "execute_result"
    },
    {
     "data": {
      "image/png": "[encoded data removed]",
      "text/plain": [
       "<Figure size 1296x432 with 1 Axes>"
      ]
     },
     "metadata": {
      "needs_background": "light"
     },
     "output_type": "display_data"
    }
   ],
   "source": [
    "plt.rcParams[\"figure.figsize\"] = (18,6)\n",
    "\n",
    "\n",
    "plt.hist(resampled_control_revenues, alpha=0.3, label='Estimated Revenue at $39 Price')\n",
    "plt.hist(resampled_alternative_revenues,alpha=0.7, label='Estimated Revenue at $59 Price')\n",
    "plt.axvline(x = resampled_control_revenues.mean(),color ='grey')\n",
    "plt.axvline(x = resampled_alternative_revenues.mean(),color ='black')\n",
    "plt.ylabel('Frequency (out of 1,000)')\n",
    "plt.xlabel('Dollars of Revenue per 100,000 Ads Placed')\n",
    "plt.xlim(0,120000)\n",
    "\n",
    "plt.legend(loc='upper right')\n",
    "plt.title('Changing to $59 Price Will Improve Revenues (Estimated Revenue Increase of 18%)')\n"
   ]
  },
  {
   "cell_type": "markdown",
   "metadata": {},
   "source": [
    "The analysis above is based on maintaining the same mix of advertisement placements as the company has used over the testing period.\n",
    "\n",
    "Note: if there are any ongoing support costs that the company has to cover after the point-of-sale, then we expect profits to be increased beyond the estimated revenue gains"
   ]
  },
  {
   "cell_type": "code",
   "execution_count": 124,
   "metadata": {},
   "outputs": [
    {
     "name": "stderr",
     "output_type": "stream",
     "text": [
      "No handles with labels found to put in legend.\n"
     ]
    },
    {
     "data": {
      "text/plain": [
       "Text(0.5, 1.0, 'Changing to $59 Price Will Improve Revenues (Estimated Revenue Increase of 18%)')"
      ]
     },
     "execution_count": 124,
     "metadata": {},
     "output_type": "execute_result"
    },
    {
     "data": {
      "image/png": "[encoded data removed]",
      "text/plain": [
       "<Figure size 720x576 with 1 Axes>"
      ]
     },
     "metadata": {
      "needs_background": "light"
     },
     "output_type": "display_data"
    }
   ],
   "source": [
    "plt.rcParams[\"figure.figsize\"] = (10,8)\n",
    "\n",
    "rand_differences = []\n",
    "\n",
    "for index in list(range(len(resampled_control_revenues))):\n",
    "    rand_differences.append(100*(-resampled_control_revenues[index]+resampled_alternative_revenues[index])/resampled_control_revenues.mean())\n",
    "\n",
    "rand_differences = pd.Series(rand_differences)    \n",
    "plt.hist(rand_differences, alpha=0.5,color = \"green\")\n",
    "plt.axvline(x = rand_differences.mean(),color ='green')\n",
    "plt.ylabel('Frequency (out of 1,000)')\n",
    "plt.xlabel('Percentage Increase in Revenue')\n",
    "plt.xlim(0,35)\n",
    "\n",
    "plt.legend(loc='upper right')\n",
    "plt.title('Changing to $59 Price Will Improve Revenues (Estimated Revenue Increase of 18%)')\n"
   ]
  },
  {
   "cell_type": "code",
   "execution_count": null,
   "metadata": {},
   "outputs": [],
   "source": []
  },
  {
   "cell_type": "code",
   "execution_count": 95,
   "metadata": {},
   "outputs": [
    {
     "data": {
      "text/plain": [
       "[-13370.000000000015,\n",
       " -16561.999999999985,\n",
       " -9656.000000000015,\n",
       " -11790.0,\n",
       " -23366.000000000015,\n",
       " -14126.0,\n",
       " -11964.0,\n",
       " -7594.0,\n",
       " -11424.0,\n",
       " -13041.999999999985]"
      ]
     },
     "execution_count": 95,
     "metadata": {},
     "output_type": "execute_result"
    }
   ],
   "source": [
    "rand_differences[:10]"
   ]
  }
 ],
 "metadata": {
  "kernelspec": {
   "display_name": "Python 3",
   "language": "python",
   "name": "python3"
  },
  "language_info": {
   "codemirror_mode": {
    "name": "ipython",
    "version": 3
   },
   "file_extension": ".py",
   "mimetype": "text/x-python",
   "name": "python",
   "nbconvert_exporter": "python",
   "pygments_lexer": "ipython3",
   "version": "3.7.1"
  }
 },
 "nbformat": 4,
 "nbformat_minor": 2
}
