{
 "cells": [
  {
   "cell_type": "markdown",
   "metadata": {},
   "source": [
    "# What is the cause of a drop in Yammer engagements?\n",
    "\n",
    "An exectutive noticed a trend reversal in their dashboard: about 3-4 weeks ago, the number of unique engaged users stopped increasing (mild weekly increases had occurred for the prior 10-12 weeks) and actually began to decline. \n",
    "\n",
    "**Question:** What happened, and should Yammer be worried?? Is some kind of intervention necessary or possible?\n",
    "\n",
    "*More context: \"Yammer defines engagement as having made some type of server call by interacting with the product (shown in the data as events of type “engagement”). Any point in this chart can be interpreted as 'the number of users who logged at least one engagement event during the week starting on that date'.”*\n",
    "\n",
    "**Takeaways:**\n",
    "\n",
    "1. We are reasonably confident that the decline in engaged users observed over the last 3-4 weeks was driven by a **technical failure that impacted the top levels of Yammer's funnel (account creation and activation) during during Aug 3-5 (co-inciding with the start of the engagement decline).** This outage may have also impacted availability of other user services in the same period.\n",
    "\n",
    "\n",
    "2. **Lasting Impact on Engagement:** The technical outage **suppressed the size of the new weekly cohort activating  Yammer accounts by more than 20%**. This suppressed-size cohort 4 weeks ago failed to overcome churn in the existing user base, and it is possible that weekly churn for existing users was also atypically high durign that week due to frustration with the technical outage.\n",
    "\n",
    "\n",
    "3. We have not yet been able to identify a specific niche catagory (sign ups from particular countries or device types) where the technical failure took place. \n",
    "\n",
    "\n",
    "4. Since the decline appears to be driven by a one-time technical failure, we advise further study, but we find **no evidence of a decline in the underlying demand for Yammer account creation.**\n",
    "\n",
    "\n",
    "5. Because the existing catagories are somewhat fine grained (so that daily and weekly numbers have quite high variance), further analysis could bucket the devices or gloabl regions to search for anomolies that would allow better attribuion of the sudden anomolous dent in new account creation that was observed during Aug 3-5.\n",
    "\n",
    "\n",
    "\n",
    "\n",
    "\n",
    "\n",
    "## Initial Exploratory Data Analysis"
   ]
  },
  {
   "cell_type": "code",
   "execution_count": 2,
   "metadata": {},
   "outputs": [
    {
     "data": {
      "text/html": [
       "<div>\n",
       "<style scoped>\n",
       "    .dataframe tbody tr th:only-of-type {\n",
       "        vertical-align: middle;\n",
       "    }\n",
       "\n",
       "    .dataframe tbody tr th {\n",
       "        vertical-align: top;\n",
       "    }\n",
       "\n",
       "    .dataframe thead th {\n",
       "        text-align: right;\n",
       "    }\n",
       "</style>\n",
       "<table border=\"1\" class=\"dataframe\">\n",
       "  <thead>\n",
       "    <tr style=\"text-align: right;\">\n",
       "      <th></th>\n",
       "      <th>user_id</th>\n",
       "      <th>created_at</th>\n",
       "      <th>company_id</th>\n",
       "      <th>language</th>\n",
       "      <th>activated_at</th>\n",
       "      <th>state</th>\n",
       "    </tr>\n",
       "  </thead>\n",
       "  <tbody>\n",
       "    <tr>\n",
       "      <th>0</th>\n",
       "      <td>0.0</td>\n",
       "      <td>2013-01-01 20:59:39</td>\n",
       "      <td>5737.0</td>\n",
       "      <td>english</td>\n",
       "      <td>2013-01-01 21:01:07</td>\n",
       "      <td>active</td>\n",
       "    </tr>\n",
       "    <tr>\n",
       "      <th>1</th>\n",
       "      <td>1.0</td>\n",
       "      <td>2013-01-01 13:07:46</td>\n",
       "      <td>28.0</td>\n",
       "      <td>english</td>\n",
       "      <td>NaN</td>\n",
       "      <td>pending</td>\n",
       "    </tr>\n",
       "    <tr>\n",
       "      <th>2</th>\n",
       "      <td>2.0</td>\n",
       "      <td>2013-01-01 10:59:05</td>\n",
       "      <td>51.0</td>\n",
       "      <td>english</td>\n",
       "      <td>NaN</td>\n",
       "      <td>pending</td>\n",
       "    </tr>\n",
       "    <tr>\n",
       "      <th>3</th>\n",
       "      <td>3.0</td>\n",
       "      <td>2013-01-01 18:40:36</td>\n",
       "      <td>2800.0</td>\n",
       "      <td>german</td>\n",
       "      <td>2013-01-01 18:42:02</td>\n",
       "      <td>active</td>\n",
       "    </tr>\n",
       "    <tr>\n",
       "      <th>4</th>\n",
       "      <td>4.0</td>\n",
       "      <td>2013-01-01 14:37:51</td>\n",
       "      <td>5110.0</td>\n",
       "      <td>indian</td>\n",
       "      <td>2013-01-01 14:39:05</td>\n",
       "      <td>active</td>\n",
       "    </tr>\n",
       "  </tbody>\n",
       "</table>\n",
       "</div>"
      ],
      "text/plain": [
       "   user_id           created_at  company_id language         activated_at  \\\n",
       "0      0.0  2013-01-01 20:59:39      5737.0  english  2013-01-01 21:01:07   \n",
       "1      1.0  2013-01-01 13:07:46        28.0  english                  NaN   \n",
       "2      2.0  2013-01-01 10:59:05        51.0  english                  NaN   \n",
       "3      3.0  2013-01-01 18:40:36      2800.0   german  2013-01-01 18:42:02   \n",
       "4      4.0  2013-01-01 14:37:51      5110.0   indian  2013-01-01 14:39:05   \n",
       "\n",
       "     state  \n",
       "0   active  \n",
       "1  pending  \n",
       "2  pending  \n",
       "3   active  \n",
       "4   active  "
      ]
     },
     "execution_count": 2,
     "metadata": {},
     "output_type": "execute_result"
    }
   ],
   "source": [
    "import numpy as np\n",
    "import pandas as pd\n",
    "import matplotlib.pyplot as plt\n",
    "\n",
    "from IPython.display import set_matplotlib_formats\n",
    "set_matplotlib_formats('png', 'pdf')\n",
    "\n",
    "%matplotlib inline\n",
    "\n",
    "#load the data\n",
    "yammer_users = pd.read_csv('yammer_users.csv')\n",
    "yammer_events = pd.read_csv('yammer_events.csv')\n",
    "yammer_emails = pd.read_csv('yammer_emails.csv')\n",
    "yammer_experiments = pd.read_csv('yammer_experiments.csv')\n",
    "dimension_rollup = pd.read_csv('dimension_rollup_periods.csv')\n",
    "\n",
    "yammer_users.head()"
   ]
  },
  {
   "cell_type": "code",
   "execution_count": 3,
   "metadata": {},
   "outputs": [
    {
     "data": {
      "text/plain": [
       "str"
      ]
     },
     "execution_count": 3,
     "metadata": {},
     "output_type": "execute_result"
    }
   ],
   "source": [
    "# If the dates are currently strings, \n",
    "# we'll convert them to date time objects\n",
    "# so we can easily plot them, etc\n",
    "type(yammer_users['created_at'][0])"
   ]
  },
  {
   "cell_type": "code",
   "execution_count": 4,
   "metadata": {},
   "outputs": [
    {
     "data": {
      "text/html": [
       "<div>\n",
       "<style scoped>\n",
       "    .dataframe tbody tr th:only-of-type {\n",
       "        vertical-align: middle;\n",
       "    }\n",
       "\n",
       "    .dataframe tbody tr th {\n",
       "        vertical-align: top;\n",
       "    }\n",
       "\n",
       "    .dataframe thead th {\n",
       "        text-align: right;\n",
       "    }\n",
       "</style>\n",
       "<table border=\"1\" class=\"dataframe\">\n",
       "  <thead>\n",
       "    <tr style=\"text-align: right;\">\n",
       "      <th></th>\n",
       "      <th>user_id</th>\n",
       "      <th>created_at</th>\n",
       "      <th>company_id</th>\n",
       "      <th>language</th>\n",
       "      <th>activated_at</th>\n",
       "      <th>state</th>\n",
       "      <th>proper_dates_cr</th>\n",
       "      <th>proper_dates_act</th>\n",
       "    </tr>\n",
       "  </thead>\n",
       "  <tbody>\n",
       "    <tr>\n",
       "      <th>0</th>\n",
       "      <td>0.0</td>\n",
       "      <td>2013-01-01 20:59:39</td>\n",
       "      <td>5737.0</td>\n",
       "      <td>english</td>\n",
       "      <td>2013-01-01 21:01:07</td>\n",
       "      <td>active</td>\n",
       "      <td>2013-01-01 20:59:39</td>\n",
       "      <td>2013-01-01 21:01:07</td>\n",
       "    </tr>\n",
       "    <tr>\n",
       "      <th>1</th>\n",
       "      <td>1.0</td>\n",
       "      <td>2013-01-01 13:07:46</td>\n",
       "      <td>28.0</td>\n",
       "      <td>english</td>\n",
       "      <td>NaN</td>\n",
       "      <td>pending</td>\n",
       "      <td>2013-01-01 13:07:46</td>\n",
       "      <td>NaT</td>\n",
       "    </tr>\n",
       "    <tr>\n",
       "      <th>2</th>\n",
       "      <td>2.0</td>\n",
       "      <td>2013-01-01 10:59:05</td>\n",
       "      <td>51.0</td>\n",
       "      <td>english</td>\n",
       "      <td>NaN</td>\n",
       "      <td>pending</td>\n",
       "      <td>2013-01-01 10:59:05</td>\n",
       "      <td>NaT</td>\n",
       "    </tr>\n",
       "    <tr>\n",
       "      <th>3</th>\n",
       "      <td>3.0</td>\n",
       "      <td>2013-01-01 18:40:36</td>\n",
       "      <td>2800.0</td>\n",
       "      <td>german</td>\n",
       "      <td>2013-01-01 18:42:02</td>\n",
       "      <td>active</td>\n",
       "      <td>2013-01-01 18:40:36</td>\n",
       "      <td>2013-01-01 18:42:02</td>\n",
       "    </tr>\n",
       "    <tr>\n",
       "      <th>4</th>\n",
       "      <td>4.0</td>\n",
       "      <td>2013-01-01 14:37:51</td>\n",
       "      <td>5110.0</td>\n",
       "      <td>indian</td>\n",
       "      <td>2013-01-01 14:39:05</td>\n",
       "      <td>active</td>\n",
       "      <td>2013-01-01 14:37:51</td>\n",
       "      <td>2013-01-01 14:39:05</td>\n",
       "    </tr>\n",
       "  </tbody>\n",
       "</table>\n",
       "</div>"
      ],
      "text/plain": [
       "   user_id           created_at  company_id language         activated_at  \\\n",
       "0      0.0  2013-01-01 20:59:39      5737.0  english  2013-01-01 21:01:07   \n",
       "1      1.0  2013-01-01 13:07:46        28.0  english                  NaN   \n",
       "2      2.0  2013-01-01 10:59:05        51.0  english                  NaN   \n",
       "3      3.0  2013-01-01 18:40:36      2800.0   german  2013-01-01 18:42:02   \n",
       "4      4.0  2013-01-01 14:37:51      5110.0   indian  2013-01-01 14:39:05   \n",
       "\n",
       "     state     proper_dates_cr    proper_dates_act  \n",
       "0   active 2013-01-01 20:59:39 2013-01-01 21:01:07  \n",
       "1  pending 2013-01-01 13:07:46                 NaT  \n",
       "2  pending 2013-01-01 10:59:05                 NaT  \n",
       "3   active 2013-01-01 18:40:36 2013-01-01 18:42:02  \n",
       "4   active 2013-01-01 14:37:51 2013-01-01 14:39:05  "
      ]
     },
     "execution_count": 4,
     "metadata": {},
     "output_type": "execute_result"
    }
   ],
   "source": [
    "from datetime import datetime\n",
    "\n",
    "# First we convert the created_at column\n",
    "proper_dates = []\n",
    "\n",
    "string_dates = list(yammer_users['created_at'])\n",
    "\n",
    "for index in list(range(len(string_dates))):\n",
    "    time_value = datetime.strptime(string_dates[index], '%Y-%m-%d %H:%M:%S')\n",
    "    proper_dates.append(time_value)\n",
    "\n",
    "yammer_users['proper_dates_cr'] = proper_dates\n",
    "\n",
    "# Now convert the activated_at column\n",
    "# For column replacement we'll include Null values,\n",
    "# but we'll also record just the dates for plotting:\n",
    "proper_dates = []\n",
    "\n",
    "string_dates = list(yammer_users['activated_at'])\n",
    "just_act_dates = []\n",
    "\n",
    "for index in list(range(len(string_dates))):\n",
    "    if type(string_dates[index]) == str:\n",
    "        time_value = datetime.strptime(string_dates[index], '%Y-%m-%d %H:%M:%S')\n",
    "        proper_dates.append(time_value)\n",
    "        just_act_dates.append(time_value)\n",
    "    else:\n",
    "        proper_dates.append(string_dates[index])\n",
    "\n",
    "yammer_users['proper_dates_act'] = proper_dates\n",
    "\n",
    "yammer_users.head()"
   ]
  },
  {
   "cell_type": "code",
   "execution_count": 5,
   "metadata": {},
   "outputs": [
    {
     "name": "stdout",
     "output_type": "stream",
     "text": [
      "The number of accounts created was 19066\n",
      "The number of accounts activated was 9381\n",
      "The fraction of created accounts that get activated was 0.49202769327598866\n"
     ]
    }
   ],
   "source": [
    "# Even the head of the table shows very old account creation events \n",
    "# that never resulted in account activation:\n",
    "# Let's quickly count how many created accounts never got activated\n",
    "\n",
    "total_accounts_created = len(yammer_users['proper_dates_cr'])\n",
    "total_accounts_activated = len(just_act_dates)\n",
    "\n",
    "print('The number of accounts created was ' + str(total_accounts_created))\n",
    "print('The number of accounts activated was ' + str(total_accounts_activated))\n",
    "print('The fraction of created accounts that get activated was ' + str(total_accounts_activated/total_accounts_created))\n"
   ]
  },
  {
   "cell_type": "code",
   "execution_count": 6,
   "metadata": {},
   "outputs": [
    {
     "name": "stdout",
     "output_type": "stream",
     "text": [
      "607 days 16:02:02\n"
     ]
    }
   ],
   "source": [
    "# Let's dig in a bit more by looking at a week-by-week view:\n",
    "\n",
    "days_of_data = max(yammer_users['proper_dates_cr']) - min(yammer_users['proper_dates_cr'])\n",
    "print(days_of_data)"
   ]
  },
  {
   "cell_type": "code",
   "execution_count": 7,
   "metadata": {},
   "outputs": [
    {
     "name": "stdout",
     "output_type": "stream",
     "text": [
      "86.71428571428571\n"
     ]
    }
   ],
   "source": [
    "weeks_of_data = 607/7\n",
    "print(weeks_of_data)"
   ]
  },
  {
   "cell_type": "code",
   "execution_count": 8,
   "metadata": {},
   "outputs": [
    {
     "data": {
      "text/plain": [
       "(0, 550)"
      ]
     },
     "execution_count": 8,
     "metadata": {},
     "output_type": "execute_result"
    },
    {
     "data": {
      "image/png": "[encoded data removed]",
      "text/plain": [
       "<Figure size 1296x432 with 2 Axes>"
      ]
     },
     "metadata": {
      "needs_background": "light"
     },
     "output_type": "display_data"
    }
   ],
   "source": [
    "plt.rcParams[\"figure.figsize\"] = (18,6)\n",
    "\n",
    "plt.subplot(121)\n",
    "plt.hist(yammer_users['proper_dates_cr'], bins = 87)\n",
    "plt.title('Creation of Accounts over the last 87 weeks')\n",
    "plt.xlabel('Time')\n",
    "plt.ylabel('Number of account creation events per week')\n",
    "plt.ylim(0,550)\n",
    "\n",
    "plt.subplot(122)\n",
    "just_act_dates = pd.Series(just_act_dates)\n",
    "plt.hist(just_act_dates, bins =87)\n",
    "plt.title('Activation of Accounts over the last 87 weeks')\n",
    "plt.xlabel('Time')\n",
    "plt.ylabel('Number of account activation events per week')\n",
    "plt.ylim(0,550)"
   ]
  },
  {
   "cell_type": "code",
   "execution_count": 16,
   "metadata": {},
   "outputs": [
    {
     "data": {
      "text/plain": [
       "(array([ 30.,  34.,  46.,  35.,  34.,  41.,  44.,  38.,  36.,  42.,  31.,\n",
       "         33.,  33.,  41.,  33.,  44.,  49.,  44.,  51.,  52.,  40.,  54.,\n",
       "         50.,  51.,  47.,  52.,  53.,  61.,  71.,  68.,  61.,  73.,  65.,\n",
       "         72.,  82.,  64.,  73.,  86.,  89.,  80.,  84.,  77.,  98.,  92.,\n",
       "         93.,  94.,  82., 102.,  97., 123., 116., 109., 127., 122., 110.,\n",
       "        112., 136., 127., 136., 126., 131., 131., 152., 131., 154., 159.,\n",
       "        165., 167., 176., 172., 160., 186., 175., 186., 197., 199., 221.,\n",
       "        210., 199., 223., 215., 227., 235., 189., 248., 261., 266.]),\n",
       " array([734869.19456019, 734876.17909669, 734883.16363319, 734890.1481697 ,\n",
       "        734897.1327062 , 734904.11724271, 734911.10177921, 734918.08631572,\n",
       "        734925.07085222, 734932.05538873, 734939.03992523, 734946.02446174,\n",
       "        734953.00899824, 734959.99353475, 734966.97807125, 734973.96260776,\n",
       "        734980.94714426, 734987.93168077, 734994.91621727, 735001.90075378,\n",
       "        735008.88529028, 735015.86982679, 735022.85436329, 735029.8388998 ,\n",
       "        735036.8234363 , 735043.80797281, 735050.79250931, 735057.77704582,\n",
       "        735064.76158232, 735071.74611883, 735078.73065533, 735085.71519184,\n",
       "        735092.69972834, 735099.68426485, 735106.66880135, 735113.65333786,\n",
       "        735120.63787436, 735127.62241087, 735134.60694737, 735141.59148388,\n",
       "        735148.57602038, 735155.56055689, 735162.54509339, 735169.5296299 ,\n",
       "        735176.5141664 , 735183.49870291, 735190.48323941, 735197.46777592,\n",
       "        735204.45231242, 735211.43684893, 735218.42138543, 735225.40592193,\n",
       "        735232.39045844, 735239.37499494, 735246.35953145, 735253.34406795,\n",
       "        735260.32860446, 735267.31314096, 735274.29767747, 735281.28221397,\n",
       "        735288.26675048, 735295.25128698, 735302.23582349, 735309.22035999,\n",
       "        735316.2048965 , 735323.189433  , 735330.17396951, 735337.15850601,\n",
       "        735344.14304252, 735351.12757902, 735358.11211553, 735365.09665203,\n",
       "        735372.08118854, 735379.06572504, 735386.05026155, 735393.03479805,\n",
       "        735400.01933456, 735407.00387106, 735413.98840757, 735420.97294407,\n",
       "        735427.95748058, 735434.94201708, 735441.92655359, 735448.91109009,\n",
       "        735455.8956266 , 735462.8801631 , 735469.86469961, 735476.84923611]),\n",
       " <a list of 87 Patch objects>)"
      ]
     },
     "execution_count": 16,
     "metadata": {},
     "output_type": "execute_result"
    },
    {
     "data": {
      "image/png": "[encoded data removed]",
      "text/plain": [
       "<Figure size 216x144 with 1 Axes>"
      ]
     },
     "metadata": {
      "needs_background": "light"
     },
     "output_type": "display_data"
    }
   ],
   "source": [
    "# Let's check the height of the histogram bins\n",
    "\n",
    "plt.rcParams[\"figure.figsize\"] = (3,2)\n",
    "plt.title('Activation of Accounts over the last 87 weeks')\n",
    "plt.hist(just_act_dates, bins =87)\n"
   ]
  },
  {
   "cell_type": "code",
   "execution_count": 17,
   "metadata": {},
   "outputs": [
    {
     "data": {
      "text/plain": [
       "0.782608695652174"
      ]
     },
     "execution_count": 17,
     "metadata": {},
     "output_type": "execute_result"
    }
   ],
   "source": [
    "#Activations: True 4th week back vs. average of 3d and 5th week back: \n",
    "\n",
    "189/((235 + 248)/2)"
   ]
  },
  {
   "cell_type": "code",
   "execution_count": 19,
   "metadata": {},
   "outputs": [
    {
     "data": {
      "text/plain": [
       "(array([ 70.,  67.,  78.,  78.,  76.,  84.,  80.,  82.,  86.,  84.,  87.,\n",
       "         97.,  89.,  88.,  96.,  95.,  98., 100., 112., 103., 106., 113.,\n",
       "        114., 113., 122., 127., 127., 133., 142., 130., 136., 134., 152.,\n",
       "        147., 152., 166., 162., 166., 161., 181., 167., 176., 190., 198.,\n",
       "        186., 194., 181., 207., 211., 221., 214., 236., 228., 232., 222.,\n",
       "        249., 249., 255., 261., 273., 271., 268., 288., 283., 304., 303.,\n",
       "        317., 308., 364., 352., 351., 361., 371., 363., 391., 413., 420.,\n",
       "        404., 405., 424., 425., 457., 477., 407., 472., 469., 514.]),\n",
       " array([734869.19340278, 734876.17809334, 734883.1627839 , 734890.14747446,\n",
       "        734897.13216502, 734904.11685558, 734911.10154614, 734918.0862367 ,\n",
       "        734925.07092726, 734932.05561782, 734939.04030838, 734946.02499894,\n",
       "        734953.0096895 , 734959.99438006, 734966.97907062, 734973.96376117,\n",
       "        734980.94845173, 734987.93314229, 734994.91783285, 735001.90252341,\n",
       "        735008.88721397, 735015.87190453, 735022.85659509, 735029.84128565,\n",
       "        735036.82597621, 735043.81066677, 735050.79535733, 735057.78004789,\n",
       "        735064.76473845, 735071.74942901, 735078.73411957, 735085.71881013,\n",
       "        735092.70350069, 735099.68819125, 735106.67288181, 735113.65757237,\n",
       "        735120.64226293, 735127.62695349, 735134.61164405, 735141.59633461,\n",
       "        735148.58102517, 735155.56571573, 735162.55040629, 735169.53509685,\n",
       "        735176.51978741, 735183.50447797, 735190.48916853, 735197.47385909,\n",
       "        735204.45854965, 735211.44324021, 735218.42793077, 735225.41262133,\n",
       "        735232.39731189, 735239.38200245, 735246.36669301, 735253.35138357,\n",
       "        735260.33607413, 735267.32076469, 735274.30545525, 735281.29014581,\n",
       "        735288.27483637, 735295.25952693, 735302.24421749, 735309.22890805,\n",
       "        735316.21359861, 735323.19828917, 735330.18297973, 735337.16767029,\n",
       "        735344.15236085, 735351.1370514 , 735358.12174196, 735365.10643252,\n",
       "        735372.09112308, 735379.07581364, 735386.0605042 , 735393.04519476,\n",
       "        735400.02988532, 735407.01457588, 735413.99926644, 735420.983957  ,\n",
       "        735427.96864756, 735434.95333812, 735441.93802868, 735448.92271924,\n",
       "        735455.9074098 , 735462.89210036, 735469.87679092, 735476.86148148]),\n",
       " <a list of 87 Patch objects>)"
      ]
     },
     "execution_count": 19,
     "metadata": {},
     "output_type": "execute_result"
    },
    {
     "data": {
      "image/png": "[encoded data removed]",
      "text/plain": [
       "<Figure size 216x144 with 1 Axes>"
      ]
     },
     "metadata": {
      "needs_background": "light"
     },
     "output_type": "display_data"
    }
   ],
   "source": [
    "#Creations: Let's check the height of the histogram bins \n",
    "\n",
    "plt.hist(yammer_users['proper_dates_cr'], bins = 87)"
   ]
  },
  {
   "cell_type": "code",
   "execution_count": 20,
   "metadata": {},
   "outputs": [
    {
     "data": {
      "text/plain": [
       "0.920814479638009"
      ]
     },
     "execution_count": 20,
     "metadata": {},
     "output_type": "execute_result"
    }
   ],
   "source": [
    "407/((477+407)/2)"
   ]
  },
  {
   "cell_type": "markdown",
   "metadata": {},
   "source": [
    "# Discussion:\n",
    "\n",
    "There is a noticable aberration (or dent) about **3-4 weeks ago** where there is a sudden **uncharacteristic drop in the growth of new account creations** (we see this dent appears to be **echoed, or even amplified, \"further down our funnel\" in the number of accounts activated**).  \n",
    "\n",
    "Did we have some kind of **significant downtime event 3-4 weeks ago that prevented new account creation??** Such an outage could have impacted new account activation in two ways: first by reducing initial account creations - reducing flow from the top of our funnel, and **also by directly blocking activation attempts of already created accounts**. \n",
    "\n",
    "In terms of account activation, the **4th week back appears to have about 78% as many new account activations as we might expect** based on the neighboring weeks (189 account creations occurred vs. our expectation of around 240). Contrast this with account creations: the 4th week back appears to have about 92% as many account creations as we might expect. Because the reduction in account activation is proportionally so much worse than in account creation, it seems likely that **both mechanisms (blocking creation events and direct blocking of activation events) were active during the outage.**\n",
    "\n",
    "The good news is that, immediately after that event, it appears that the strong growth patterns in terms of creation of accounts and also activation of accounts resumes almost as if there had been no interruption...this resumption also makes us suspect that **the dent does not appear indicative of some real change in rate of demand for account creation or activation.**\n",
    "\n",
    "**Later Impact on Engagement Dashboard:** Based on the evidence above, we strongly suspect that the observed decline in the number of engaged users over the last 3-4 weeks was a result of an technical failure suppressing the size of the new-account cohort that joined Yammer 4 weeks ago. In other words, our **typical net observed growth in engaged users requires a new weekly cohort of engaged users to overcome the weekly churn in the existing user base**, but because the size of the entering cohort 3-4 weeks ago was strongly suppressed by some rare technical glitch event, the **engagement from the diminished-size cohort was not enough to replace our volume of churned engaged users** for that time period, leading to an overall decline. \n",
    "\n",
    "Let's take a closer look at the week four weeks back:"
   ]
  },
  {
   "cell_type": "code",
   "execution_count": 31,
   "metadata": {},
   "outputs": [
    {
     "name": "stdout",
     "output_type": "stream",
     "text": [
      "2014-08-03 15:46:05\n",
      "2014-08-05 13:48:58\n"
     ]
    },
    {
     "data": {
      "image/png": "[encoded data removed]",
      "text/plain": [
       "<Figure size 1296x432 with 1 Axes>"
      ]
     },
     "metadata": {
      "needs_background": "light"
     },
     "output_type": "display_data"
    }
   ],
   "source": [
    "\n",
    "plt.rcParams[\"figure.figsize\"] = (18,6)\n",
    "\n",
    "plt.hist(yammer_users['proper_dates_cr'], bins = 607)\n",
    "plt.title('Creation of Accounts over recent period: Anomolously Low Monday')\n",
    "plt.xlabel('Time')\n",
    "plt.ylabel('Number of account creation events per day')\n",
    "just_act_dates = list(just_act_dates)\n",
    "plt.xlim(just_act_dates[-2100],just_act_dates[-1] )\n",
    "plt.axhline(y = 58,color ='black')\n",
    "plt.axvline(x = just_act_dates[-965],color ='red')\n",
    "plt.axvline(x = just_act_dates[-935],color ='red')\n",
    "\n",
    "start_of_anom = just_act_dates[-965]\n",
    "end_of_anom = just_act_dates[-935]\n",
    "\n",
    "print(start_of_anom)\n",
    "print(end_of_anom)"
   ]
  },
  {
   "cell_type": "markdown",
   "metadata": {},
   "source": [
    "**The Monday of that week (Aug 3) is the worst day we see for account creation over the last 9-10 weeks.** Tuesday through Friday don't look overwhelmingly strong, but they seem to be much more typical of average levels over the previous weeks. It appears **an outage could have started around August 3, strongly impacting account creation.**\n",
    "\n",
    "*Note: we are not aware that August 3-4 constitutes any prominent national holiday, etc, that might be a non-technical reason to observe a strong single-day suppression in sign-up events for Yammer (e.g. since Yammer is work-place focused, we might hypothesize that national work-holidays could suppress many Yammer-activity types).*\n",
    "\n",
    "Let's also check the zoomed in plot for account activation."
   ]
  },
  {
   "cell_type": "code",
   "execution_count": 37,
   "metadata": {},
   "outputs": [
    {
     "data": {
      "text/plain": [
       "<matplotlib.lines.Line2D at 0x129a950f0>"
      ]
     },
     "execution_count": 37,
     "metadata": {},
     "output_type": "execute_result"
    },
    {
     "data": {
      "image/png": "[encoded data removed]",
      "text/plain": [
       "<Figure size 1296x432 with 1 Axes>"
      ]
     },
     "metadata": {
      "needs_background": "light"
     },
     "output_type": "display_data"
    }
   ],
   "source": [
    "plt.rcParams[\"figure.figsize\"] = (18,6)\n",
    "\n",
    "just_act_dates = pd.Series(just_act_dates)\n",
    "plt.hist(just_act_dates, bins = 607)\n",
    "plt.title('Activation of Accounts over recent period: Anomolously Low Monday')\n",
    "plt.xlabel('Time')\n",
    "plt.ylabel('Number of account creation events per day')\n",
    "just_act_dates = list(just_act_dates)\n",
    "plt.xlim(just_act_dates[-2100],just_act_dates[-1] )\n",
    "plt.axhline(y = 26,color ='black')\n",
    "#plt.axvline(x = just_act_dates[-965],color ='red')\n",
    "#plt.axvline(x = just_act_dates[-900],color ='red')\n",
    "\n"
   ]
  },
  {
   "cell_type": "markdown",
   "metadata": {},
   "source": [
    "Again, we observe that the Monday of the 4th week back is the worst day for account activation over the surrounding 9-10 weeks. "
   ]
  },
  {
   "cell_type": "markdown",
   "metadata": {},
   "source": [
    "## Try to identify special catagories that were failing during the anomoly/glitch period\n",
    "\n",
    "**Let's see if there is evidence of a niche technical problem associated with that Monday that perhaps extends into the Tuesday.**"
   ]
  },
  {
   "cell_type": "code",
   "execution_count": 39,
   "metadata": {},
   "outputs": [
    {
     "data": {
      "text/html": [
       "<div>\n",
       "<style scoped>\n",
       "    .dataframe tbody tr th:only-of-type {\n",
       "        vertical-align: middle;\n",
       "    }\n",
       "\n",
       "    .dataframe tbody tr th {\n",
       "        vertical-align: top;\n",
       "    }\n",
       "\n",
       "    .dataframe thead th {\n",
       "        text-align: right;\n",
       "    }\n",
       "</style>\n",
       "<table border=\"1\" class=\"dataframe\">\n",
       "  <thead>\n",
       "    <tr style=\"text-align: right;\">\n",
       "      <th></th>\n",
       "      <th>user_id</th>\n",
       "      <th>occurred_at</th>\n",
       "      <th>event_type</th>\n",
       "      <th>event_name</th>\n",
       "      <th>location</th>\n",
       "      <th>device</th>\n",
       "      <th>user_type</th>\n",
       "    </tr>\n",
       "  </thead>\n",
       "  <tbody>\n",
       "    <tr>\n",
       "      <th>0</th>\n",
       "      <td>10522.0</td>\n",
       "      <td>2014-05-02 11:02:39</td>\n",
       "      <td>engagement</td>\n",
       "      <td>login</td>\n",
       "      <td>Japan</td>\n",
       "      <td>dell inspiron notebook</td>\n",
       "      <td>3.0</td>\n",
       "    </tr>\n",
       "    <tr>\n",
       "      <th>1</th>\n",
       "      <td>10522.0</td>\n",
       "      <td>2014-05-02 11:02:53</td>\n",
       "      <td>engagement</td>\n",
       "      <td>home_page</td>\n",
       "      <td>Japan</td>\n",
       "      <td>dell inspiron notebook</td>\n",
       "      <td>3.0</td>\n",
       "    </tr>\n",
       "    <tr>\n",
       "      <th>2</th>\n",
       "      <td>10522.0</td>\n",
       "      <td>2014-05-02 11:03:28</td>\n",
       "      <td>engagement</td>\n",
       "      <td>like_message</td>\n",
       "      <td>Japan</td>\n",
       "      <td>dell inspiron notebook</td>\n",
       "      <td>3.0</td>\n",
       "    </tr>\n",
       "    <tr>\n",
       "      <th>3</th>\n",
       "      <td>10522.0</td>\n",
       "      <td>2014-05-02 11:04:09</td>\n",
       "      <td>engagement</td>\n",
       "      <td>view_inbox</td>\n",
       "      <td>Japan</td>\n",
       "      <td>dell inspiron notebook</td>\n",
       "      <td>3.0</td>\n",
       "    </tr>\n",
       "    <tr>\n",
       "      <th>4</th>\n",
       "      <td>10522.0</td>\n",
       "      <td>2014-05-02 11:03:16</td>\n",
       "      <td>engagement</td>\n",
       "      <td>search_run</td>\n",
       "      <td>Japan</td>\n",
       "      <td>dell inspiron notebook</td>\n",
       "      <td>3.0</td>\n",
       "    </tr>\n",
       "  </tbody>\n",
       "</table>\n",
       "</div>"
      ],
      "text/plain": [
       "   user_id          occurred_at  event_type    event_name location  \\\n",
       "0  10522.0  2014-05-02 11:02:39  engagement         login    Japan   \n",
       "1  10522.0  2014-05-02 11:02:53  engagement     home_page    Japan   \n",
       "2  10522.0  2014-05-02 11:03:28  engagement  like_message    Japan   \n",
       "3  10522.0  2014-05-02 11:04:09  engagement    view_inbox    Japan   \n",
       "4  10522.0  2014-05-02 11:03:16  engagement    search_run    Japan   \n",
       "\n",
       "                   device  user_type  \n",
       "0  dell inspiron notebook        3.0  \n",
       "1  dell inspiron notebook        3.0  \n",
       "2  dell inspiron notebook        3.0  \n",
       "3  dell inspiron notebook        3.0  \n",
       "4  dell inspiron notebook        3.0  "
      ]
     },
     "execution_count": 39,
     "metadata": {},
     "output_type": "execute_result"
    }
   ],
   "source": [
    "yammer_events.head()"
   ]
  },
  {
   "cell_type": "code",
   "execution_count": 40,
   "metadata": {},
   "outputs": [
    {
     "data": {
      "text/plain": [
       "engagement     321575\n",
       "signup_flow     19257\n",
       "Name: event_type, dtype: int64"
      ]
     },
     "execution_count": 40,
     "metadata": {},
     "output_type": "execute_result"
    }
   ],
   "source": [
    "yammer_events['event_type'].value_counts()"
   ]
  },
  {
   "cell_type": "code",
   "execution_count": 41,
   "metadata": {},
   "outputs": [],
   "source": [
    "yammer_events_sign_up = yammer_events[yammer_events.event_type == 'signup_flow']"
   ]
  },
  {
   "cell_type": "code",
   "execution_count": 42,
   "metadata": {},
   "outputs": [
    {
     "data": {
      "text/html": [
       "<div>\n",
       "<style scoped>\n",
       "    .dataframe tbody tr th:only-of-type {\n",
       "        vertical-align: middle;\n",
       "    }\n",
       "\n",
       "    .dataframe tbody tr th {\n",
       "        vertical-align: top;\n",
       "    }\n",
       "\n",
       "    .dataframe thead th {\n",
       "        text-align: right;\n",
       "    }\n",
       "</style>\n",
       "<table border=\"1\" class=\"dataframe\">\n",
       "  <thead>\n",
       "    <tr style=\"text-align: right;\">\n",
       "      <th></th>\n",
       "      <th>user_id</th>\n",
       "      <th>occurred_at</th>\n",
       "      <th>event_type</th>\n",
       "      <th>event_name</th>\n",
       "      <th>location</th>\n",
       "      <th>device</th>\n",
       "      <th>user_type</th>\n",
       "    </tr>\n",
       "  </thead>\n",
       "  <tbody>\n",
       "    <tr>\n",
       "      <th>391</th>\n",
       "      <td>11768.0</td>\n",
       "      <td>2014-05-01 08:01:36</td>\n",
       "      <td>signup_flow</td>\n",
       "      <td>create_user</td>\n",
       "      <td>France</td>\n",
       "      <td>macbook pro</td>\n",
       "      <td>NaN</td>\n",
       "    </tr>\n",
       "    <tr>\n",
       "      <th>392</th>\n",
       "      <td>11768.0</td>\n",
       "      <td>2014-05-01 08:02:06</td>\n",
       "      <td>signup_flow</td>\n",
       "      <td>enter_email</td>\n",
       "      <td>France</td>\n",
       "      <td>macbook pro</td>\n",
       "      <td>NaN</td>\n",
       "    </tr>\n",
       "    <tr>\n",
       "      <th>393</th>\n",
       "      <td>11768.0</td>\n",
       "      <td>2014-05-01 08:02:39</td>\n",
       "      <td>signup_flow</td>\n",
       "      <td>enter_info</td>\n",
       "      <td>France</td>\n",
       "      <td>macbook pro</td>\n",
       "      <td>NaN</td>\n",
       "    </tr>\n",
       "    <tr>\n",
       "      <th>394</th>\n",
       "      <td>11768.0</td>\n",
       "      <td>2014-05-01 08:03:12</td>\n",
       "      <td>signup_flow</td>\n",
       "      <td>complete_signup</td>\n",
       "      <td>France</td>\n",
       "      <td>macbook pro</td>\n",
       "      <td>3.0</td>\n",
       "    </tr>\n",
       "    <tr>\n",
       "      <th>401</th>\n",
       "      <td>11769.0</td>\n",
       "      <td>2014-05-01 02:37:43</td>\n",
       "      <td>signup_flow</td>\n",
       "      <td>create_user</td>\n",
       "      <td>United Kingdom</td>\n",
       "      <td>lenovo thinkpad</td>\n",
       "      <td>NaN</td>\n",
       "    </tr>\n",
       "  </tbody>\n",
       "</table>\n",
       "</div>"
      ],
      "text/plain": [
       "     user_id          occurred_at   event_type       event_name  \\\n",
       "391  11768.0  2014-05-01 08:01:36  signup_flow      create_user   \n",
       "392  11768.0  2014-05-01 08:02:06  signup_flow      enter_email   \n",
       "393  11768.0  2014-05-01 08:02:39  signup_flow       enter_info   \n",
       "394  11768.0  2014-05-01 08:03:12  signup_flow  complete_signup   \n",
       "401  11769.0  2014-05-01 02:37:43  signup_flow      create_user   \n",
       "\n",
       "           location           device  user_type  \n",
       "391          France      macbook pro        NaN  \n",
       "392          France      macbook pro        NaN  \n",
       "393          France      macbook pro        NaN  \n",
       "394          France      macbook pro        3.0  \n",
       "401  United Kingdom  lenovo thinkpad        NaN  "
      ]
     },
     "execution_count": 42,
     "metadata": {},
     "output_type": "execute_result"
    }
   ],
   "source": [
    "yammer_events_sign_up.head()"
   ]
  },
  {
   "cell_type": "code",
   "execution_count": 43,
   "metadata": {},
   "outputs": [
    {
     "name": "stderr",
     "output_type": "stream",
     "text": [
      "/anaconda3/lib/python3.7/site-packages/ipykernel_launcher.py:10: SettingWithCopyWarning: \n",
      "A value is trying to be set on a copy of a slice from a DataFrame.\n",
      "Try using .loc[row_indexer,col_indexer] = value instead\n",
      "\n",
      "See the caveats in the documentation: http://pandas.pydata.org/pandas-docs/stable/indexing.html#indexing-view-versus-copy\n",
      "  # Remove the CWD from sys.path while we load stuff.\n"
     ]
    }
   ],
   "source": [
    "# Convert the dates\n",
    "proper_dates = []\n",
    "\n",
    "string_dates = list(yammer_events_sign_up['occurred_at'])\n",
    "\n",
    "for index in list(range(len(string_dates))):\n",
    "    time_value = datetime.strptime(string_dates[index], '%Y-%m-%d %H:%M:%S')\n",
    "    proper_dates.append(time_value)\n",
    "\n",
    "yammer_events_sign_up['proper_dates_occ'] = proper_dates"
   ]
  },
  {
   "cell_type": "code",
   "execution_count": 44,
   "metadata": {},
   "outputs": [
    {
     "data": {
      "text/html": [
       "<div>\n",
       "<style scoped>\n",
       "    .dataframe tbody tr th:only-of-type {\n",
       "        vertical-align: middle;\n",
       "    }\n",
       "\n",
       "    .dataframe tbody tr th {\n",
       "        vertical-align: top;\n",
       "    }\n",
       "\n",
       "    .dataframe thead th {\n",
       "        text-align: right;\n",
       "    }\n",
       "</style>\n",
       "<table border=\"1\" class=\"dataframe\">\n",
       "  <thead>\n",
       "    <tr style=\"text-align: right;\">\n",
       "      <th></th>\n",
       "      <th>user_id</th>\n",
       "      <th>occurred_at</th>\n",
       "      <th>event_type</th>\n",
       "      <th>event_name</th>\n",
       "      <th>location</th>\n",
       "      <th>device</th>\n",
       "      <th>user_type</th>\n",
       "      <th>proper_dates_occ</th>\n",
       "    </tr>\n",
       "  </thead>\n",
       "  <tbody>\n",
       "    <tr>\n",
       "      <th>391</th>\n",
       "      <td>11768.0</td>\n",
       "      <td>2014-05-01 08:01:36</td>\n",
       "      <td>signup_flow</td>\n",
       "      <td>create_user</td>\n",
       "      <td>France</td>\n",
       "      <td>macbook pro</td>\n",
       "      <td>NaN</td>\n",
       "      <td>2014-05-01 08:01:36</td>\n",
       "    </tr>\n",
       "    <tr>\n",
       "      <th>392</th>\n",
       "      <td>11768.0</td>\n",
       "      <td>2014-05-01 08:02:06</td>\n",
       "      <td>signup_flow</td>\n",
       "      <td>enter_email</td>\n",
       "      <td>France</td>\n",
       "      <td>macbook pro</td>\n",
       "      <td>NaN</td>\n",
       "      <td>2014-05-01 08:02:06</td>\n",
       "    </tr>\n",
       "    <tr>\n",
       "      <th>393</th>\n",
       "      <td>11768.0</td>\n",
       "      <td>2014-05-01 08:02:39</td>\n",
       "      <td>signup_flow</td>\n",
       "      <td>enter_info</td>\n",
       "      <td>France</td>\n",
       "      <td>macbook pro</td>\n",
       "      <td>NaN</td>\n",
       "      <td>2014-05-01 08:02:39</td>\n",
       "    </tr>\n",
       "    <tr>\n",
       "      <th>394</th>\n",
       "      <td>11768.0</td>\n",
       "      <td>2014-05-01 08:03:12</td>\n",
       "      <td>signup_flow</td>\n",
       "      <td>complete_signup</td>\n",
       "      <td>France</td>\n",
       "      <td>macbook pro</td>\n",
       "      <td>3.0</td>\n",
       "      <td>2014-05-01 08:03:12</td>\n",
       "    </tr>\n",
       "    <tr>\n",
       "      <th>401</th>\n",
       "      <td>11769.0</td>\n",
       "      <td>2014-05-01 02:37:43</td>\n",
       "      <td>signup_flow</td>\n",
       "      <td>create_user</td>\n",
       "      <td>United Kingdom</td>\n",
       "      <td>lenovo thinkpad</td>\n",
       "      <td>NaN</td>\n",
       "      <td>2014-05-01 02:37:43</td>\n",
       "    </tr>\n",
       "  </tbody>\n",
       "</table>\n",
       "</div>"
      ],
      "text/plain": [
       "     user_id          occurred_at   event_type       event_name  \\\n",
       "391  11768.0  2014-05-01 08:01:36  signup_flow      create_user   \n",
       "392  11768.0  2014-05-01 08:02:06  signup_flow      enter_email   \n",
       "393  11768.0  2014-05-01 08:02:39  signup_flow       enter_info   \n",
       "394  11768.0  2014-05-01 08:03:12  signup_flow  complete_signup   \n",
       "401  11769.0  2014-05-01 02:37:43  signup_flow      create_user   \n",
       "\n",
       "           location           device  user_type    proper_dates_occ  \n",
       "391          France      macbook pro        NaN 2014-05-01 08:01:36  \n",
       "392          France      macbook pro        NaN 2014-05-01 08:02:06  \n",
       "393          France      macbook pro        NaN 2014-05-01 08:02:39  \n",
       "394          France      macbook pro        3.0 2014-05-01 08:03:12  \n",
       "401  United Kingdom  lenovo thinkpad        NaN 2014-05-01 02:37:43  "
      ]
     },
     "execution_count": 44,
     "metadata": {},
     "output_type": "execute_result"
    }
   ],
   "source": [
    "yammer_events_sign_up.head()"
   ]
  },
  {
   "cell_type": "code",
   "execution_count": 45,
   "metadata": {},
   "outputs": [
    {
     "name": "stderr",
     "output_type": "stream",
     "text": [
      "/anaconda3/lib/python3.7/site-packages/ipykernel_launcher.py:16: SettingWithCopyWarning: \n",
      "A value is trying to be set on a copy of a slice from a DataFrame.\n",
      "Try using .loc[row_indexer,col_indexer] = value instead\n",
      "\n",
      "See the caveats in the documentation: http://pandas.pydata.org/pandas-docs/stable/indexing.html#indexing-view-versus-copy\n",
      "  app.launch_new_instance()\n"
     ]
    }
   ],
   "source": [
    "# Can we find a specific catagory that looked particulary broken during the anomoly period?\n",
    "\n",
    "start_of_anom = just_act_dates[-965]\n",
    "end_of_anom = just_act_dates[-935]\n",
    "\n",
    "dates_to_filter = list(yammer_events_sign_up['proper_dates_occ'])\n",
    "\n",
    "indicator = []\n",
    "\n",
    "for index in list(range(len(dates_to_filter))):\n",
    "    if dates_to_filter[index] > start_of_anom and dates_to_filter[index] < end_of_anom:\n",
    "        indicator.append(True)\n",
    "    else:\n",
    "        indicator.append(False)\n",
    "\n",
    "yammer_events_sign_up['in_anom_period'] = indicator\n",
    "\n"
   ]
  },
  {
   "cell_type": "code",
   "execution_count": 46,
   "metadata": {},
   "outputs": [],
   "source": [
    "anom_period = yammer_events_sign_up[yammer_events_sign_up.in_anom_period == True]"
   ]
  },
  {
   "cell_type": "code",
   "execution_count": 47,
   "metadata": {},
   "outputs": [
    {
     "data": {
      "text/plain": [
       "macbook pro               0.170224\n",
       "lenovo thinkpad           0.108844\n",
       "macbook air               0.084229\n",
       "iphone 5                  0.080906\n",
       "samsung galaxy s4         0.060134\n",
       "dell inspiron notebook    0.052241\n",
       "iphone 5s                 0.049904\n",
       "nexus 5                   0.047619\n",
       "ipad air                  0.033910\n",
       "iphone 4s                 0.030690\n",
       "asus chromebook           0.030430\n",
       "acer aspire notebook      0.028457\n",
       "dell inspiron desktop     0.027626\n",
       "hp pavilion desktop       0.025549\n",
       "nexus 7                   0.022797\n",
       "nexus 10                  0.019681\n",
       "ipad mini                 0.019214\n",
       "nokia lumia 635           0.017189\n",
       "acer aspire desktop       0.014644\n",
       "windows surface           0.014229\n",
       "htc one                   0.013346\n",
       "kindle fire               0.012463\n",
       "mac mini                  0.011009\n",
       "samsung galaxy note       0.009295\n",
       "amazon fire phone         0.008413\n",
       "samsumg galaxy tablet     0.006959\n",
       "Name: device, dtype: float64"
      ]
     },
     "execution_count": 47,
     "metadata": {},
     "output_type": "execute_result"
    }
   ],
   "source": [
    "# Compare the fractions of new account traffic \n",
    "# arising from various catagories for the \n",
    "# whole sign-up data set to fractions during the anomoly period\n",
    "\n",
    "yammer_events_sign_up['device'].value_counts()/len(yammer_events_sign_up)"
   ]
  },
  {
   "cell_type": "code",
   "execution_count": 48,
   "metadata": {},
   "outputs": [
    {
     "data": {
      "text/plain": [
       "macbook pro               0.172662\n",
       "iphone 5                  0.111511\n",
       "lenovo thinkpad           0.104317\n",
       "nexus 5                   0.064748\n",
       "samsung galaxy s4         0.057554\n",
       "nexus 7                   0.046763\n",
       "asus chromebook           0.043165\n",
       "macbook air               0.043165\n",
       "dell inspiron notebook    0.043165\n",
       "iphone 5s                 0.039568\n",
       "windows surface           0.035971\n",
       "nexus 10                  0.032374\n",
       "ipad air                  0.032374\n",
       "nokia lumia 635           0.028777\n",
       "hp pavilion desktop       0.025180\n",
       "kindle fire               0.021583\n",
       "acer aspire notebook      0.021583\n",
       "mac mini                  0.014388\n",
       "iphone 4s                 0.014388\n",
       "acer aspire desktop       0.014388\n",
       "samsumg galaxy tablet     0.014388\n",
       "samsung galaxy note       0.010791\n",
       "ipad mini                 0.007194\n",
       "Name: device, dtype: float64"
      ]
     },
     "execution_count": 48,
     "metadata": {},
     "output_type": "execute_result"
    }
   ],
   "source": [
    "anom_period['device'].value_counts()/len(anom_period)"
   ]
  },
  {
   "cell_type": "markdown",
   "metadata": {},
   "source": [
    "**Sort of looks like share of Macbook Air based account creations took a 50% hit in terms of their share....** \n",
    "\n",
    "Let's plot the MacBook Air Sign Ups over time and see if the anomoly period appears unusal."
   ]
  },
  {
   "cell_type": "code",
   "execution_count": 49,
   "metadata": {},
   "outputs": [
    {
     "data": {
      "text/plain": [
       "Timedelta('122 days 19:46:23')"
      ]
     },
     "execution_count": 49,
     "metadata": {},
     "output_type": "execute_result"
    }
   ],
   "source": [
    "max(yammer_events_sign_up['proper_dates_occ'])-min(yammer_events_sign_up['proper_dates_occ'])"
   ]
  },
  {
   "cell_type": "code",
   "execution_count": 50,
   "metadata": {},
   "outputs": [
    {
     "data": {
      "text/plain": [
       "Text(0.5, 1.0, 'Searching for catagories where there were systematic glitches during the anomoly period: MacBook Air Sign Ups')"
      ]
     },
     "execution_count": 50,
     "metadata": {},
     "output_type": "execute_result"
    },
    {
     "data": {
      "application/pdf": "[encoded data removed]",
      "image/png": "[encoded data removed]",
      "text/plain": [
       "<Figure size 1296x432 with 1 Axes>"
      ]
     },
     "metadata": {
      "needs_background": "light"
     },
     "output_type": "display_data"
    }
   ],
   "source": [
    "plt.hist(yammer_events_sign_up[yammer_events_sign_up.device == 'macbook air']['proper_dates_occ'], bins =122)\n",
    "plt.axvline(x = just_act_dates[-965],color ='red')\n",
    "plt.axvline(x = just_act_dates[-935],color ='red')\n",
    "plt.title('Searching for catagories where there were systematic glitches during the anomoly period: MacBook Air Sign Ups')"
   ]
  },
  {
   "cell_type": "markdown",
   "metadata": {},
   "source": [
    "**Discussion:** Because of the high variability in Macbook Air signups over the events time period, we don't suspect a failure specific to Macbook Air drove the dent we observed in new account creation during the anomoly period."
   ]
  },
  {
   "cell_type": "code",
   "execution_count": 51,
   "metadata": {},
   "outputs": [
    {
     "data": {
      "text/plain": [
       "United States           0.277769\n",
       "Japan                   0.075920\n",
       "Germany                 0.063354\n",
       "France                  0.046477\n",
       "United Kingdom          0.045957\n",
       "Italy                   0.038376\n",
       "Russia                  0.034533\n",
       "Brazil                  0.032871\n",
       "India                   0.030327\n",
       "Canada                  0.029652\n",
       "Mexico                  0.023784\n",
       "Spain                   0.022381\n",
       "Korea                   0.022018\n",
       "Australia               0.020564\n",
       "Netherlands             0.015942\n",
       "Indonesia               0.015838\n",
       "Turkey                  0.012878\n",
       "Saudi Arabia            0.012463\n",
       "Switzerland             0.011009\n",
       "Sweden                  0.010957\n",
       "Poland                  0.009088\n",
       "Belgium                 0.008153\n",
       "Iran                    0.007686\n",
       "Thailand                0.007478\n",
       "Taiwan                  0.007426\n",
       "Norway                  0.007426\n",
       "Nigeria                 0.007010\n",
       "Philippines             0.006959\n",
       "Denmark                 0.006439\n",
       "South Africa            0.006387\n",
       "Malaysia                0.006335\n",
       "Colombia                0.005920\n",
       "Israel                  0.005920\n",
       "United Arab Emirates    0.005816\n",
       "Argentina               0.005712\n",
       "Venezuela               0.005297\n",
       "Singapore               0.005245\n",
       "Austria                 0.004933\n",
       "Finland                 0.004881\n",
       "Hong Kong               0.004726\n",
       "Portugal                0.004726\n",
       "Greece                  0.004674\n",
       "Iraq                    0.004102\n",
       "Egypt                   0.004050\n",
       "Ireland                 0.003947\n",
       "Pakistan                0.003583\n",
       "Chile                   0.003012\n",
       "Name: location, dtype: float64"
      ]
     },
     "execution_count": 51,
     "metadata": {},
     "output_type": "execute_result"
    }
   ],
   "source": [
    "yammer_events_sign_up['location'].value_counts()/len(yammer_events_sign_up)"
   ]
  },
  {
   "cell_type": "code",
   "execution_count": 52,
   "metadata": {},
   "outputs": [
    {
     "data": {
      "text/plain": [
       "United States           0.255396\n",
       "France                  0.053957\n",
       "Sweden                  0.050360\n",
       "Canada                  0.050360\n",
       "Mexico                  0.050360\n",
       "United Kingdom          0.046763\n",
       "Turkey                  0.043165\n",
       "Russia                  0.039568\n",
       "Brazil                  0.039568\n",
       "Japan                   0.035971\n",
       "Australia               0.032374\n",
       "Germany                 0.032374\n",
       "Iran                    0.032374\n",
       "India                   0.025180\n",
       "Saudi Arabia            0.017986\n",
       "Indonesia               0.017986\n",
       "Israel                  0.017986\n",
       "Argentina               0.014388\n",
       "Switzerland             0.014388\n",
       "Colombia                0.014388\n",
       "Korea                   0.014388\n",
       "Spain                   0.014388\n",
       "Hong Kong               0.014388\n",
       "Philippines             0.014388\n",
       "United Arab Emirates    0.014388\n",
       "Italy                   0.014388\n",
       "Venezuela               0.014388\n",
       "Greece                  0.003597\n",
       "Nigeria                 0.003597\n",
       "Taiwan                  0.003597\n",
       "Poland                  0.003597\n",
       "Name: location, dtype: float64"
      ]
     },
     "execution_count": 52,
     "metadata": {},
     "output_type": "execute_result"
    }
   ],
   "source": [
    "anom_period['location'].value_counts()/len(anom_period)"
   ]
  },
  {
   "cell_type": "code",
   "execution_count": 53,
   "metadata": {},
   "outputs": [
    {
     "data": {
      "text/plain": [
       "Text(0.5, 1.0, 'Searching for catagories where there were systematic glitches during the anomoly period: Japan Sign Ups')"
      ]
     },
     "execution_count": 53,
     "metadata": {},
     "output_type": "execute_result"
    },
    {
     "data": {
      "application/pdf": "[encoded data removed]",
      "image/png": "[encoded data removed]",
      "text/plain": [
       "<Figure size 1296x432 with 1 Axes>"
      ]
     },
     "metadata": {
      "needs_background": "light"
     },
     "output_type": "display_data"
    }
   ],
   "source": [
    "plt.hist(yammer_events_sign_up[yammer_events_sign_up.location == 'Japan']['proper_dates_occ'], bins =122)\n",
    "plt.axvline(x = just_act_dates[-965],color ='red')\n",
    "plt.axvline(x = just_act_dates[-935],color ='red')\n",
    "plt.title('Searching for catagories where there were systematic glitches during the anomoly period: Japan Sign Ups')"
   ]
  },
  {
   "cell_type": "markdown",
   "metadata": {},
   "source": [
    "**Discussion:** Because of the high variability in Japan signups over the events time period, we don't suspect a failure specific to Japan drove the dent we observed in new account creation durign the anomoly period."
   ]
  },
  {
   "cell_type": "code",
   "execution_count": 54,
   "metadata": {},
   "outputs": [
    {
     "data": {
      "text/plain": [
       "create_user        0.378979\n",
       "enter_email        0.228852\n",
       "enter_info         0.201070\n",
       "complete_signup    0.191099\n",
       "Name: event_name, dtype: float64"
      ]
     },
     "execution_count": 54,
     "metadata": {},
     "output_type": "execute_result"
    }
   ],
   "source": [
    "yammer_events_sign_up['event_name'].value_counts()/len(yammer_events_sign_up)"
   ]
  },
  {
   "cell_type": "code",
   "execution_count": 55,
   "metadata": {},
   "outputs": [
    {
     "data": {
      "text/plain": [
       "create_user        0.374101\n",
       "enter_email        0.233813\n",
       "enter_info         0.197842\n",
       "complete_signup    0.194245\n",
       "Name: event_name, dtype: float64"
      ]
     },
     "execution_count": 55,
     "metadata": {},
     "output_type": "execute_result"
    }
   ],
   "source": [
    "anom_period['event_name'].value_counts()/len(anom_period)"
   ]
  },
  {
   "cell_type": "markdown",
   "metadata": {},
   "source": [
    "**Discussion:** The representation of event-name catagories seems almost identical for the overall data set and the anomoly period."
   ]
  },
  {
   "cell_type": "markdown",
   "metadata": {},
   "source": [
    "# Closing Discussion:\n",
    "\n",
    "While we are mostly confident that the decline in engaged users observed over the last 3-4 weeks was driven by a technical failure that impacted the top levels of Yammer's funnel (account creation and activation), **we have not yet been able to identify a specific niche catagory (of devices or countries) where the failure took place.** \n",
    "\n",
    "Because the existings catagories in the data are somewhat fine-grained (so that daily and weekly numbers have quite high variance), further analysis could bucket the devices or gloabl regions to search for anomolies that would allow better attribuion of the sudden dent in new account creation that was observed during Aug 3-5.\n",
    "\n",
    "**Other Future Directions:**\n",
    "\n",
    "**Cohort retention could be further studied** to see whether typical \"engagement lifetimes\" of newly-activated accounts have changed over Yammer's history so far or whether these lifetimes vary according to some conditions Yammer could intervene on. \n",
    "\n",
    "For example, in initial data exploration we discovered that among **roughly 9,500 active accounts, there were more than 6,000 unique company ids**. If this is accurate (and not a data quality issue related to innaccurate company logging), then **nearly half of Yammer accounts belong to users that are the only Yammer user at their company**. Because of the nature of Yammer's offerings, we might guess than such users would **churn very quickly or, more mildly, are unlikely to be engaged users.** Economists would point out that the value of Yammer's services to individuals has a **network effect** based on the number of other people at their company who use Yammer. \n",
    "\n",
    "**To increase engaged weekly users, Yammer might study whether targeted outreach to engage groups of employees concentrated at a few common companies could build more robust weekly cohorts** than a \"spray approach\" that builds substantial but very-sparse interest in Yammer. Such a study could be conducted with Yammer's existing historical data, by **building a model to see if engagement for newly-activated accounts is predicted by the number of existing users at the same company**. A regression approach might try to predict the number of weeks an newly-activated account qualifies as \"engaged.\" A classification approach might focus on predicting some coarser measure, e.g. does a newly-activated account qualify as engaged for at least 3 out of the first 6 post-activation weeks? If the existing number of users at a company is highly predictive of the respective labels, this coud inform future marketing strategies that could help Yammer accelerate the growth of their engaged user base."
   ]
  }
 ],
 "metadata": {
  "kernelspec": {
   "display_name": "Python 3",
   "language": "python",
   "name": "python3"
  },
  "language_info": {
   "codemirror_mode": {
    "name": "ipython",
    "version": 3
   },
   "file_extension": ".py",
   "mimetype": "text/x-python",
   "name": "python",
   "nbconvert_exporter": "python",
   "pygments_lexer": "ipython3",
   "version": "3.7.1"
  }
 },
 "nbformat": 4,
 "nbformat_minor": 2
}
