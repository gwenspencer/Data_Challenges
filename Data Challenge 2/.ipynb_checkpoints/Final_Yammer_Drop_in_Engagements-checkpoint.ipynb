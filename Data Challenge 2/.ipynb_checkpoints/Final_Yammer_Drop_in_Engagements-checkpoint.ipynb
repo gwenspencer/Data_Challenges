{
 "cells": [
  {
   "cell_type": "markdown",
   "metadata": {},
   "source": [
    "# What is the cause of a drop in Yammer engagements?\n",
    "\n",
    "An exectutive noticed a trend reversal in their dashboard: about 3-4 weeks ago, the number of unique engaged users stopped increasing (mild weekly increases had occurred for the prior 10-12 weeks) and actually began to decline. \n",
    "\n",
    "**Question:** What happened, and should Yammer be worried?? Is some kind of intervention necessary or possible?\n",
    "\n",
    "*More context: \"Yammer defines engagement as having made some type of server call by interacting with the product (shown in the data as events of type “engagement”). Any point in this chart can be interpreted as 'the number of users who logged at least one engagement event during the week starting on that date'.”*\n",
    "\n",
    "\n",
    "## Initial Exploratory Data Analysis"
   ]
  },
  {
   "cell_type": "code",
   "execution_count": 2,
   "metadata": {},
   "outputs": [
    {
     "data": {
      "text/html": [
       "<div>\n",
       "<style scoped>\n",
       "    .dataframe tbody tr th:only-of-type {\n",
       "        vertical-align: middle;\n",
       "    }\n",
       "\n",
       "    .dataframe tbody tr th {\n",
       "        vertical-align: top;\n",
       "    }\n",
       "\n",
       "    .dataframe thead th {\n",
       "        text-align: right;\n",
       "    }\n",
       "</style>\n",
       "<table border=\"1\" class=\"dataframe\">\n",
       "  <thead>\n",
       "    <tr style=\"text-align: right;\">\n",
       "      <th></th>\n",
       "      <th>user_id</th>\n",
       "      <th>created_at</th>\n",
       "      <th>company_id</th>\n",
       "      <th>language</th>\n",
       "      <th>activated_at</th>\n",
       "      <th>state</th>\n",
       "    </tr>\n",
       "  </thead>\n",
       "  <tbody>\n",
       "    <tr>\n",
       "      <th>0</th>\n",
       "      <td>0.0</td>\n",
       "      <td>2013-01-01 20:59:39</td>\n",
       "      <td>5737.0</td>\n",
       "      <td>english</td>\n",
       "      <td>2013-01-01 21:01:07</td>\n",
       "      <td>active</td>\n",
       "    </tr>\n",
       "    <tr>\n",
       "      <th>1</th>\n",
       "      <td>1.0</td>\n",
       "      <td>2013-01-01 13:07:46</td>\n",
       "      <td>28.0</td>\n",
       "      <td>english</td>\n",
       "      <td>NaN</td>\n",
       "      <td>pending</td>\n",
       "    </tr>\n",
       "    <tr>\n",
       "      <th>2</th>\n",
       "      <td>2.0</td>\n",
       "      <td>2013-01-01 10:59:05</td>\n",
       "      <td>51.0</td>\n",
       "      <td>english</td>\n",
       "      <td>NaN</td>\n",
       "      <td>pending</td>\n",
       "    </tr>\n",
       "    <tr>\n",
       "      <th>3</th>\n",
       "      <td>3.0</td>\n",
       "      <td>2013-01-01 18:40:36</td>\n",
       "      <td>2800.0</td>\n",
       "      <td>german</td>\n",
       "      <td>2013-01-01 18:42:02</td>\n",
       "      <td>active</td>\n",
       "    </tr>\n",
       "    <tr>\n",
       "      <th>4</th>\n",
       "      <td>4.0</td>\n",
       "      <td>2013-01-01 14:37:51</td>\n",
       "      <td>5110.0</td>\n",
       "      <td>indian</td>\n",
       "      <td>2013-01-01 14:39:05</td>\n",
       "      <td>active</td>\n",
       "    </tr>\n",
       "  </tbody>\n",
       "</table>\n",
       "</div>"
      ],
      "text/plain": [
       "   user_id           created_at  company_id language         activated_at  \\\n",
       "0      0.0  2013-01-01 20:59:39      5737.0  english  2013-01-01 21:01:07   \n",
       "1      1.0  2013-01-01 13:07:46        28.0  english                  NaN   \n",
       "2      2.0  2013-01-01 10:59:05        51.0  english                  NaN   \n",
       "3      3.0  2013-01-01 18:40:36      2800.0   german  2013-01-01 18:42:02   \n",
       "4      4.0  2013-01-01 14:37:51      5110.0   indian  2013-01-01 14:39:05   \n",
       "\n",
       "     state  \n",
       "0   active  \n",
       "1  pending  \n",
       "2  pending  \n",
       "3   active  \n",
       "4   active  "
      ]
     },
     "execution_count": 2,
     "metadata": {},
     "output_type": "execute_result"
    }
   ],
   "source": [
    "import numpy as np\n",
    "import pandas as pd\n",
    "import matplotlib.pyplot as plt\n",
    "\n",
    "from IPython.display import set_matplotlib_formats\n",
    "set_matplotlib_formats('png', 'pdf')\n",
    "\n",
    "%matplotlib inline\n",
    "\n",
    "#load the data\n",
    "yammer_users = pd.read_csv('yammer_users.csv')\n",
    "yammer_events = pd.read_csv('yammer_events.csv')\n",
    "yammer_emails = pd.read_csv('yammer_emails.csv')\n",
    "yammer_experiments = pd.read_csv('yammer_experiments.csv')\n",
    "dimension_rollup = pd.read_csv('dimension_rollup_periods.csv')\n",
    "\n",
    "yammer_users.head()"
   ]
  },
  {
   "cell_type": "code",
   "execution_count": 4,
   "metadata": {},
   "outputs": [
    {
     "data": {
      "text/plain": [
       "str"
      ]
     },
     "execution_count": 4,
     "metadata": {},
     "output_type": "execute_result"
    }
   ],
   "source": [
    "# If the dates are currently strings, we'll convert them to date time objects\n",
    "# so we can easily plot them\n",
    "type(yammer_users['created_at'][0])"
   ]
  },
  {
   "cell_type": "code",
   "execution_count": 7,
   "metadata": {},
   "outputs": [
    {
     "data": {
      "text/html": [
       "<div>\n",
       "<style scoped>\n",
       "    .dataframe tbody tr th:only-of-type {\n",
       "        vertical-align: middle;\n",
       "    }\n",
       "\n",
       "    .dataframe tbody tr th {\n",
       "        vertical-align: top;\n",
       "    }\n",
       "\n",
       "    .dataframe thead th {\n",
       "        text-align: right;\n",
       "    }\n",
       "</style>\n",
       "<table border=\"1\" class=\"dataframe\">\n",
       "  <thead>\n",
       "    <tr style=\"text-align: right;\">\n",
       "      <th></th>\n",
       "      <th>user_id</th>\n",
       "      <th>created_at</th>\n",
       "      <th>company_id</th>\n",
       "      <th>language</th>\n",
       "      <th>activated_at</th>\n",
       "      <th>state</th>\n",
       "      <th>proper_dates_cr</th>\n",
       "      <th>proper_dates_act</th>\n",
       "    </tr>\n",
       "  </thead>\n",
       "  <tbody>\n",
       "    <tr>\n",
       "      <th>0</th>\n",
       "      <td>0.0</td>\n",
       "      <td>2013-01-01 20:59:39</td>\n",
       "      <td>5737.0</td>\n",
       "      <td>english</td>\n",
       "      <td>2013-01-01 21:01:07</td>\n",
       "      <td>active</td>\n",
       "      <td>2013-01-01 20:59:39</td>\n",
       "      <td>2013-01-01 21:01:07</td>\n",
       "    </tr>\n",
       "    <tr>\n",
       "      <th>1</th>\n",
       "      <td>1.0</td>\n",
       "      <td>2013-01-01 13:07:46</td>\n",
       "      <td>28.0</td>\n",
       "      <td>english</td>\n",
       "      <td>NaN</td>\n",
       "      <td>pending</td>\n",
       "      <td>2013-01-01 13:07:46</td>\n",
       "      <td>NaT</td>\n",
       "    </tr>\n",
       "    <tr>\n",
       "      <th>2</th>\n",
       "      <td>2.0</td>\n",
       "      <td>2013-01-01 10:59:05</td>\n",
       "      <td>51.0</td>\n",
       "      <td>english</td>\n",
       "      <td>NaN</td>\n",
       "      <td>pending</td>\n",
       "      <td>2013-01-01 10:59:05</td>\n",
       "      <td>NaT</td>\n",
       "    </tr>\n",
       "    <tr>\n",
       "      <th>3</th>\n",
       "      <td>3.0</td>\n",
       "      <td>2013-01-01 18:40:36</td>\n",
       "      <td>2800.0</td>\n",
       "      <td>german</td>\n",
       "      <td>2013-01-01 18:42:02</td>\n",
       "      <td>active</td>\n",
       "      <td>2013-01-01 18:40:36</td>\n",
       "      <td>2013-01-01 18:42:02</td>\n",
       "    </tr>\n",
       "    <tr>\n",
       "      <th>4</th>\n",
       "      <td>4.0</td>\n",
       "      <td>2013-01-01 14:37:51</td>\n",
       "      <td>5110.0</td>\n",
       "      <td>indian</td>\n",
       "      <td>2013-01-01 14:39:05</td>\n",
       "      <td>active</td>\n",
       "      <td>2013-01-01 14:37:51</td>\n",
       "      <td>2013-01-01 14:39:05</td>\n",
       "    </tr>\n",
       "  </tbody>\n",
       "</table>\n",
       "</div>"
      ],
      "text/plain": [
       "   user_id           created_at  company_id language         activated_at  \\\n",
       "0      0.0  2013-01-01 20:59:39      5737.0  english  2013-01-01 21:01:07   \n",
       "1      1.0  2013-01-01 13:07:46        28.0  english                  NaN   \n",
       "2      2.0  2013-01-01 10:59:05        51.0  english                  NaN   \n",
       "3      3.0  2013-01-01 18:40:36      2800.0   german  2013-01-01 18:42:02   \n",
       "4      4.0  2013-01-01 14:37:51      5110.0   indian  2013-01-01 14:39:05   \n",
       "\n",
       "     state     proper_dates_cr    proper_dates_act  \n",
       "0   active 2013-01-01 20:59:39 2013-01-01 21:01:07  \n",
       "1  pending 2013-01-01 13:07:46                 NaT  \n",
       "2  pending 2013-01-01 10:59:05                 NaT  \n",
       "3   active 2013-01-01 18:40:36 2013-01-01 18:42:02  \n",
       "4   active 2013-01-01 14:37:51 2013-01-01 14:39:05  "
      ]
     },
     "execution_count": 7,
     "metadata": {},
     "output_type": "execute_result"
    }
   ],
   "source": [
    "from datetime import datetime\n",
    "\n",
    "# First we convert the created_at column\n",
    "proper_dates = []\n",
    "\n",
    "string_dates = list(yammer_users['created_at'])\n",
    "\n",
    "for index in list(range(len(string_dates))):\n",
    "    time_value = datetime.strptime(string_dates[index], '%Y-%m-%d %H:%M:%S')\n",
    "    proper_dates.append(time_value)\n",
    "\n",
    "yammer_users['proper_dates_cr'] = proper_dates\n",
    "\n",
    "# Now convert the activated_at column\n",
    "# For column replacement we'll include Null values,\n",
    "# but we'll also record just the dates for plotting:\n",
    "proper_dates = []\n",
    "\n",
    "string_dates = list(yammer_users['activated_at'])\n",
    "just_act_dates = []\n",
    "\n",
    "for index in list(range(len(string_dates))):\n",
    "    if type(string_dates[index]) == str:\n",
    "        time_value = datetime.strptime(string_dates[index], '%Y-%m-%d %H:%M:%S')\n",
    "        proper_dates.append(time_value)\n",
    "        just_act_dates.append(time_value)\n",
    "    else:\n",
    "        proper_dates.append(string_dates[index])\n",
    "\n",
    "yammer_users['proper_dates_act'] = proper_dates\n",
    "\n",
    "yammer_users.head()"
   ]
  },
  {
   "cell_type": "code",
   "execution_count": 8,
   "metadata": {},
   "outputs": [
    {
     "name": "stdout",
     "output_type": "stream",
     "text": [
      "The number of accounts created was 19066\n",
      "The number of accounts activated was 9381\n",
      "The fraction of created accounts that get activated was 0.49202769327598866\n"
     ]
    }
   ],
   "source": [
    "# Even the head of the table shows very old account creation events \n",
    "# that never resulted in account activation:\n",
    "# Let's quickly count how many created accounts never got activated\n",
    "\n",
    "total_accounts_created = len(yammer_users['proper_dates_cr'])\n",
    "total_accounts_activated = len(just_act_dates)\n",
    "\n",
    "print('The number of accounts created was ' + str(total_accounts_created))\n",
    "print('The number of accounts activated was ' + str(total_accounts_activated))\n",
    "print('The fraction of created accounts that get activated was ' + str(total_accounts_activated/total_accounts_created))\n"
   ]
  },
  {
   "cell_type": "code",
   "execution_count": 13,
   "metadata": {},
   "outputs": [
    {
     "name": "stdout",
     "output_type": "stream",
     "text": [
      "607 days 16:02:02\n"
     ]
    }
   ],
   "source": [
    "# Let's dig in a bit more by looking at a week-by-week view:\n",
    "\n",
    "days_of_data = max(yammer_users['proper_dates_cr']) - min(yammer_users['proper_dates_cr'])\n",
    "print(days_of_data)"
   ]
  },
  {
   "cell_type": "code",
   "execution_count": 16,
   "metadata": {},
   "outputs": [
    {
     "name": "stdout",
     "output_type": "stream",
     "text": [
      "86.71428571428571\n"
     ]
    }
   ],
   "source": [
    "weeks_of_data = 607/7\n",
    "print(weeks_of_data)"
   ]
  },
  {
   "cell_type": "code",
   "execution_count": 24,
   "metadata": {},
   "outputs": [
    {
     "data": {
      "text/plain": [
       "(0, 550)"
      ]
     },
     "execution_count": 24,
     "metadata": {},
     "output_type": "execute_result"
    },
    {
     "data": {
      "image/png": "[encoded data removed]",
      "text/plain": [
       "<Figure size 1296x432 with 2 Axes>"
      ]
     },
     "metadata": {
      "needs_background": "light"
     },
     "output_type": "display_data"
    }
   ],
   "source": [
    "plt.rcParams[\"figure.figsize\"] = (18,6)\n",
    "\n",
    "plt.subplot(121)\n",
    "plt.hist(yammer_users['proper_dates_cr'], bins = 87)\n",
    "plt.title('Creation of Accounts over the last 87 weeks')\n",
    "plt.xlabel('Time')\n",
    "plt.ylabel('Number of account creation events per week')\n",
    "plt.ylim(0,550)\n",
    "\n",
    "plt.subplot(122)\n",
    "just_dates = pd.Series(just_dates)\n",
    "plt.hist(just_dates, bins =87)\n",
    "plt.title('Activation of Accounts over the last 87 weeks')\n",
    "plt.xlabel('Time')\n",
    "plt.ylabel('Number of account activation events per week')\n",
    "plt.ylim(0,550)"
   ]
  },
  {
   "cell_type": "markdown",
   "metadata": {},
   "source": [
    "# Discussion:\n",
    "\n",
    "There is a noticable **weird aberration (or dent) about 3-4 weeks ago** where there is a sudden uncharacteristic drop in the growth of new account creations (we see this dent appears to be echoed \"further down our funnel\" in the number of accounts activated).  \n",
    "\n",
    "**Did we have some kind of significant downtime event 3-4 weeks ago that prevented new account creation (or maybe both new account creation and new account activation)?**\n",
    "\n",
    "The good news is that, immediately after that event, it appears that the strong growth patterns in terms of creation of accounts and also activation of accounts resumes almost as if there had been no interruption...this resumption also makes us suspect that **the dent is not indicative of some real change in rate of demand for account creation.**\n",
    "\n",
    "We suspect that the observed **decline in the number of engaged users** was a result of a new cohort of users that would have been admitted being reduced due to some technical glitch event. In other words, our **typical observed growth in engaged users requires a new cohort of engaged users to overcome the churn in the existing user base**, but because the size of the entering cohort 3-4 weeks ago was strongly suppressed by some strange glitch event, the  engagement from the diminished-size cophort was not enough to replace our volume of churned engaged users for that time period, leading to an overall decline. \n",
    "\n",
    "Let's take a look again at a finer resolution and zoomed in:"
   ]
  },
  {
   "cell_type": "code",
   "execution_count": 29,
   "metadata": {},
   "outputs": [
    {
     "data": {
      "text/plain": [
       "<matplotlib.lines.Line2D at 0x1205bbeb8>"
      ]
     },
     "execution_count": 29,
     "metadata": {},
     "output_type": "execute_result"
    },
    {
     "data": {
      "image/png": "[encoded data removed]",
      "text/plain": [
       "<Figure size 1296x432 with 1 Axes>"
      ]
     },
     "metadata": {
      "needs_background": "light"
     },
     "output_type": "display_data"
    }
   ],
   "source": [
    "plt.hist(yammer_users['proper_dates_cr'], bins = 607)\n",
    "plt.title('Creation of Accounts over recent period')\n",
    "plt.xlabel('Time')\n",
    "plt.ylabel('Number of account creation events per day')\n",
    "plt.xlim(just_act_dates[-2100],just_act_dates[-1] )\n",
    "plt.axhline(y = 58,color ='black')\n"
   ]
  },
  {
   "cell_type": "markdown",
   "metadata": {},
   "source": [
    "**The Monday of that week is the lowest day we see for account creation over the last 9-10 weeks.** Tuesday through Friday don't look overwhelmingly strong, but they seem to be much more typical of average levels over the previous weeks.\n",
    "\n",
    "**Let's see if there is evidence of a technical problem associated with that Monday that perhaps extends into the Tuesday.**"
   ]
  },
  {
   "cell_type": "code",
   "execution_count": null,
   "metadata": {},
   "outputs": [],
   "source": []
  }
 ],
 "metadata": {
  "kernelspec": {
   "display_name": "Python 3",
   "language": "python",
   "name": "python3"
  },
  "language_info": {
   "codemirror_mode": {
    "name": "ipython",
    "version": 3
   },
   "file_extension": ".py",
   "mimetype": "text/x-python",
   "name": "python",
   "nbconvert_exporter": "python",
   "pygments_lexer": "ipython3",
   "version": "3.7.1"
  }
 },
 "nbformat": 4,
 "nbformat_minor": 2
}
